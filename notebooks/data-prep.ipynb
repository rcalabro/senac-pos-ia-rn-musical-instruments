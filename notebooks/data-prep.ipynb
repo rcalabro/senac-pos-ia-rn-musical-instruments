{
 "cells": [
  {
   "cell_type": "markdown",
   "id": "5fc38a96",
   "metadata": {},
   "source": [
    "# DATA PREPARATION"
   ]
  },
  {
   "cell_type": "markdown",
   "id": "fb87a106",
   "metadata": {},
   "source": [
    "### Download Kaggle dataset "
   ]
  },
  {
   "cell_type": "code",
   "execution_count": 1,
   "id": "d8a1a65e",
   "metadata": {},
   "outputs": [
    {
     "name": "stderr",
     "output_type": "stream",
     "text": [
      "/home/rcalabro/codebase/senac-ia/neural-networks/rn-musical-insturments/.venv/lib/python3.9/site-packages/tqdm/auto.py:21: TqdmWarning: IProgress not found. Please update jupyter and ipywidgets. See https://ipywidgets.readthedocs.io/en/stable/user_install.html\n",
      "  from .autonotebook import tqdm as notebook_tqdm\n"
     ]
    },
    {
     "name": "stdout",
     "output_type": "stream",
     "text": [
      "Kaggle downloaded files: /home/rcalabro/.cache/kagglehub/datasets/soumendraprasad/musical-instruments-sound-dataset/versions/3\n",
      "Moved kaggle files to: /home/rcalabro/.cache/kagglehub/datasets/soumendraprasad/musical-instruments-sound-dataset/versions/3\n"
     ]
    }
   ],
   "source": [
    "import kagglehub\n",
    "import shutil\n",
    "import os\n",
    "\n",
    "dataset_path = '../datasets/raw'\n",
    "force_download = False\n",
    "\n",
    "# Download latest version\n",
    "path = kagglehub.dataset_download(\"soumendraprasad/musical-instruments-sound-dataset\", force_download=force_download)\n",
    "print(\"Kaggle downloaded files:\", path)\n",
    "\n",
    "# Cria a pasta de destino, se não existir\n",
    "os.makedirs(dataset_path, exist_ok=True)\n",
    "\n",
    "shutil.copytree(\n",
    "    src=path,\n",
    "    dst=dataset_path,\n",
    "    dirs_exist_ok=True  # Permite copiar para pasta existente\n",
    ")\n",
    "\n",
    "print(\"Moved kaggle files to:\", path)"
   ]
  },
  {
   "cell_type": "markdown",
   "id": "b3f78511",
   "metadata": {},
   "source": [
    "### Organize files"
   ]
  },
  {
   "cell_type": "code",
   "execution_count": 17,
   "id": "6331820a",
   "metadata": {},
   "outputs": [],
   "source": [
    "import os\n",
    "import re\n",
    "import shutil\n",
    "import pandas as pd\n",
    "from pathlib import Path\n",
    "\n",
    "RAW_DATASET_PATH = '../datasets/raw'\n",
    "NORMALIZED_DATASET_PATH = '../datasets/normalized'\n",
    "\n",
    "os.makedirs(NORMALIZED_DATASET_PATH, exist_ok=True)\n",
    "\n",
    "# Função para normalizar nomes dos arquivos\n",
    "def normalize_filename(filename: str) -> str:\n",
    "    stem = Path(filename).stem\n",
    "    stem = re.sub(r\"[^a-zA-Z0-9]\", \"_\", stem).lower()\n",
    "    stem = re.sub(r\"_+\", \"_\", stem).strip(\"_\")\n",
    "    return f\"{stem}.wav\""
   ]
  },
  {
   "cell_type": "markdown",
   "id": "8fd5822b",
   "metadata": {},
   "source": [
    "#### Normalize test files"
   ]
  },
  {
   "cell_type": "code",
   "execution_count": 33,
   "id": "2baf0261",
   "metadata": {},
   "outputs": [
    {
     "name": "stdout",
     "output_type": "stream",
     "text": [
      "RAW_TEST_CSV_PATH: ../datasets/raw/Metadata_Test.csv\n",
      "RAW_TEST_AUDIOS_DIR: ../datasets/raw/Test_submission/Test_submission\n",
      "NORMALIZED_CSV_PATH: ../datasets/normalized/test_metadata.csv\n",
      "NORMALIZED_TEST_AUDIOS_DIR: ../datasets/normalized/test_data\n"
     ]
    }
   ],
   "source": [
    "# Caminhos\n",
    "RAW_TEST_CSV_PATH = Path(os.path.join(RAW_DATASET_PATH, 'Metadata_Test.csv'))\n",
    "print(f\"RAW_TEST_CSV_PATH: {RAW_TEST_CSV_PATH}\")\n",
    "\n",
    "RAW_TEST_AUDIOS_DIR = Path(os.path.join(RAW_DATASET_PATH, 'Test_submission', 'Test_submission'))\n",
    "print(f\"RAW_TEST_AUDIOS_DIR: {RAW_TEST_AUDIOS_DIR}\")\n",
    "\n",
    "NORMALIZED_CSV_PATH = Path(os.path.join(NORMALIZED_DATASET_PATH, 'test_metadata.csv'))\n",
    "print(f\"NORMALIZED_CSV_PATH: {NORMALIZED_CSV_PATH}\")\n",
    "\n",
    "NORMALIZED_TEST_AUDIOS_DIR = Path(os.path.join(NORMALIZED_DATASET_PATH, 'test_data'))\n",
    "print(f\"NORMALIZED_TEST_AUDIOS_DIR: {NORMALIZED_TEST_AUDIOS_DIR}\")"
   ]
  },
  {
   "cell_type": "code",
   "execution_count": 41,
   "id": "ee35e087",
   "metadata": {},
   "outputs": [
    {
     "data": {
      "text/html": [
       "<div>\n",
       "<style scoped>\n",
       "    .dataframe tbody tr th:only-of-type {\n",
       "        vertical-align: middle;\n",
       "    }\n",
       "\n",
       "    .dataframe tbody tr th {\n",
       "        vertical-align: top;\n",
       "    }\n",
       "\n",
       "    .dataframe thead th {\n",
       "        text-align: right;\n",
       "    }\n",
       "</style>\n",
       "<table border=\"1\" class=\"dataframe\">\n",
       "  <thead>\n",
       "    <tr style=\"text-align: right;\">\n",
       "      <th></th>\n",
       "      <th>FileName</th>\n",
       "      <th>Class</th>\n",
       "      <th>OriginalFilename</th>\n",
       "    </tr>\n",
       "  </thead>\n",
       "  <tbody>\n",
       "    <tr>\n",
       "      <th>0</th>\n",
       "      <td>acoustic_guitar_logo_13084.wav</td>\n",
       "      <td>guitar</td>\n",
       "      <td>acoustic-guitar-logo-13084.wav</td>\n",
       "    </tr>\n",
       "    <tr>\n",
       "      <th>1</th>\n",
       "      <td>guitar_chords_70663.wav</td>\n",
       "      <td>guitar</td>\n",
       "      <td>guitar-chords-70663.wav</td>\n",
       "    </tr>\n",
       "    <tr>\n",
       "      <th>2</th>\n",
       "      <td>guitar_intro_110935.wav</td>\n",
       "      <td>guitar</td>\n",
       "      <td>guitar-intro-110935.wav</td>\n",
       "    </tr>\n",
       "    <tr>\n",
       "      <th>3</th>\n",
       "      <td>guitar_solo_27194.wav</td>\n",
       "      <td>guitar</td>\n",
       "      <td>guitar-solo-27194.wav</td>\n",
       "    </tr>\n",
       "    <tr>\n",
       "      <th>4</th>\n",
       "      <td>guitar_solo_5999.wav</td>\n",
       "      <td>guitar</td>\n",
       "      <td>guitar-solo-5999.wav</td>\n",
       "    </tr>\n",
       "  </tbody>\n",
       "</table>\n",
       "</div>"
      ],
      "text/plain": [
       "                         FileName   Class                OriginalFilename\n",
       "0  acoustic_guitar_logo_13084.wav  guitar  acoustic-guitar-logo-13084.wav\n",
       "1         guitar_chords_70663.wav  guitar         guitar-chords-70663.wav\n",
       "2         guitar_intro_110935.wav  guitar         guitar-intro-110935.wav\n",
       "3           guitar_solo_27194.wav  guitar           guitar-solo-27194.wav\n",
       "4            guitar_solo_5999.wav  guitar            guitar-solo-5999.wav"
      ]
     },
     "execution_count": 41,
     "metadata": {},
     "output_type": "execute_result"
    }
   ],
   "source": [
    "# Leitura do CSV\n",
    "df = pd.read_csv(RAW_TEST_CSV_PATH)\n",
    "\n",
    "# Correção e normalização da coluna de classe\n",
    "df[\"Class\"] = (\n",
    "    df[\"Class\"]\n",
    "    .str.lower()\n",
    "    .str.replace(r\"^sound_\", \"\", regex=True)\n",
    "    .str.replace(r\"(?i)^guiatr$\", \"guitar\", regex=True)\n",
    ")\n",
    "\n",
    "# Guarda o nome original antes da normalização\n",
    "df[\"OriginalFilename\"] = df[\"FileName\"]\n",
    "\n",
    "# Normaliza o nome dos arquivos\n",
    "df[\"FileName\"] = df[\"FileName\"].apply(normalize_filename)\n",
    "\n",
    "df.head()"
   ]
  },
  {
   "cell_type": "code",
   "execution_count": 42,
   "id": "b72f6c47",
   "metadata": {},
   "outputs": [],
   "source": [
    "os.makedirs(NORMALIZED_DATASET_PATH, exist_ok=True)\n",
    "NORMALIZED_TEST_AUDIOS_DIR.mkdir(parents=True, exist_ok=True)"
   ]
  },
  {
   "cell_type": "code",
   "execution_count": 43,
   "id": "8b8f2dee",
   "metadata": {},
   "outputs": [
    {
     "name": "stdout",
     "output_type": "stream",
     "text": [
      "missing: []\n"
     ]
    }
   ],
   "source": [
    "missing_files = []\n",
    "\n",
    "for _, row in df.iterrows():\n",
    "    original_file = RAW_TEST_AUDIOS_DIR / row[\"OriginalFilename\"]\n",
    "    normalized_file = NORMALIZED_TEST_AUDIOS_DIR / row[\"FileName\"]\n",
    "\n",
    "    if original_file.exists():\n",
    "        shutil.copy2(original_file, normalized_file)\n",
    "    else:\n",
    "        missing_files.append(str(original_file))\n",
    "\n",
    "print(f\"missing: {missing_files}\")"
   ]
  },
  {
   "cell_type": "code",
   "execution_count": 44,
   "id": "6607ca2f",
   "metadata": {},
   "outputs": [],
   "source": [
    "df = df.drop(columns=[\"OriginalFilename\"])\n",
    "df.columns = (\n",
    "    df.columns\n",
    "    .str.strip()\n",
    "    .str.lower()\n",
    "    .str.replace(r\"[^a-z0-9]+\", \"_\", regex=True)\n",
    "    .str.strip(\"_\")\n",
    ")\n",
    "\n",
    "df.to_csv(NORMALIZED_CSV_PATH, index=False)"
   ]
  },
  {
   "cell_type": "code",
   "execution_count": 45,
   "id": "4f750bee",
   "metadata": {},
   "outputs": [
    {
     "name": "stdout",
     "output_type": "stream",
     "text": [
      "✅ Arquivos normalizados e copiados para: ../datasets/normalized/test\n",
      "📄 Novo CSV salvo em: Metadata_Test_Normalized.csv\n",
      "🎉 Todos os arquivos foram encontrados e copiados com sucesso!\n"
     ]
    }
   ],
   "source": [
    "print(f\"✅ Arquivos normalizados e copiados para: {TARGET_AUDIO_DIR}\")\n",
    "print(f\"📄 Novo CSV salvo em: {OUTPUT_CSV_PATH}\")\n",
    "\n",
    "if missing_files:\n",
    "    print(f\"⚠️ Arquivos ausentes ({len(missing_files)}):\")\n",
    "    for f in missing_files[:5]:\n",
    "        print(f\" - {f}\")\n",
    "else:\n",
    "    print(\"🎉 Todos os arquivos foram encontrados e copiados com sucesso!\")"
   ]
  },
  {
   "cell_type": "markdown",
   "id": "1b8e1189",
   "metadata": {},
   "source": [
    "#### Normalize Train Files"
   ]
  },
  {
   "cell_type": "code",
   "execution_count": 46,
   "id": "cc23d677",
   "metadata": {},
   "outputs": [
    {
     "name": "stdout",
     "output_type": "stream",
     "text": [
      "RAW_TRAIN_CSV_PATH: ../datasets/raw/Metadata_Train.csv\n",
      "RAW_TRAIN_AUDIOS_DIR: ../datasets/raw/Train_submission/Train_submission\n",
      "NORMALIZED_TRAIN_CSV_PATH: ../datasets/normalized/train_metadata.csv\n",
      "NORMALIZED_TRAIN_AUDIOS_DIR: ../datasets/normalized/train_data\n"
     ]
    }
   ],
   "source": [
    "# Caminhos\n",
    "RAW_TRAIN_CSV_PATH = Path(os.path.join(RAW_DATASET_PATH, 'Metadata_Train.csv'))\n",
    "print(f\"RAW_TRAIN_CSV_PATH: {RAW_TRAIN_CSV_PATH}\")\n",
    "\n",
    "RAW_TRAIN_AUDIOS_DIR = Path(os.path.join(RAW_DATASET_PATH, 'Train_submission', 'Train_submission'))\n",
    "print(f\"RAW_TRAIN_AUDIOS_DIR: {RAW_TRAIN_AUDIOS_DIR}\")\n",
    "\n",
    "NORMALIZED_TRAIN_CSV_PATH = Path(os.path.join(NORMALIZED_DATASET_PATH, 'train_metadata.csv'))\n",
    "print(f\"NORMALIZED_TRAIN_CSV_PATH: {NORMALIZED_TRAIN_CSV_PATH}\")\n",
    "\n",
    "NORMALIZED_TRAIN_AUDIOS_DIR = Path(os.path.join(NORMALIZED_DATASET_PATH, 'train_data'))\n",
    "print(f\"NORMALIZED_TRAIN_AUDIOS_DIR: {NORMALIZED_TRAIN_AUDIOS_DIR}\")\n"
   ]
  },
  {
   "cell_type": "code",
   "execution_count": 47,
   "id": "ad4352f6",
   "metadata": {},
   "outputs": [
    {
     "data": {
      "text/html": [
       "<div>\n",
       "<style scoped>\n",
       "    .dataframe tbody tr th:only-of-type {\n",
       "        vertical-align: middle;\n",
       "    }\n",
       "\n",
       "    .dataframe tbody tr th {\n",
       "        vertical-align: top;\n",
       "    }\n",
       "\n",
       "    .dataframe thead th {\n",
       "        text-align: right;\n",
       "    }\n",
       "</style>\n",
       "<table border=\"1\" class=\"dataframe\">\n",
       "  <thead>\n",
       "    <tr style=\"text-align: right;\">\n",
       "      <th></th>\n",
       "      <th>FileName</th>\n",
       "      <th>Class</th>\n",
       "      <th>OriginalFilename</th>\n",
       "    </tr>\n",
       "  </thead>\n",
       "  <tbody>\n",
       "    <tr>\n",
       "      <th>0</th>\n",
       "      <td>1_e1_major_00.wav</td>\n",
       "      <td>guitar</td>\n",
       "      <td>1-E1-Major 00.wav</td>\n",
       "    </tr>\n",
       "    <tr>\n",
       "      <th>1</th>\n",
       "      <td>1_e1_major_01.wav</td>\n",
       "      <td>guitar</td>\n",
       "      <td>1-E1-Major 01.wav</td>\n",
       "    </tr>\n",
       "    <tr>\n",
       "      <th>2</th>\n",
       "      <td>1_e1_major_02.wav</td>\n",
       "      <td>guitar</td>\n",
       "      <td>1-E1-Major 02.wav</td>\n",
       "    </tr>\n",
       "    <tr>\n",
       "      <th>3</th>\n",
       "      <td>1_e1_major_03.wav</td>\n",
       "      <td>guitar</td>\n",
       "      <td>1-E1-Major 03.wav</td>\n",
       "    </tr>\n",
       "    <tr>\n",
       "      <th>4</th>\n",
       "      <td>1_e1_major_04.wav</td>\n",
       "      <td>guitar</td>\n",
       "      <td>1-E1-Major 04.wav</td>\n",
       "    </tr>\n",
       "  </tbody>\n",
       "</table>\n",
       "</div>"
      ],
      "text/plain": [
       "            FileName   Class   OriginalFilename\n",
       "0  1_e1_major_00.wav  guitar  1-E1-Major 00.wav\n",
       "1  1_e1_major_01.wav  guitar  1-E1-Major 01.wav\n",
       "2  1_e1_major_02.wav  guitar  1-E1-Major 02.wav\n",
       "3  1_e1_major_03.wav  guitar  1-E1-Major 03.wav\n",
       "4  1_e1_major_04.wav  guitar  1-E1-Major 04.wav"
      ]
     },
     "execution_count": 47,
     "metadata": {},
     "output_type": "execute_result"
    }
   ],
   "source": [
    "# Leitura do CSV\n",
    "df_train = pd.read_csv(RAW_TRAIN_CSV_PATH)\n",
    "\n",
    "# Correção e normalização da coluna de classe\n",
    "df_train[\"Class\"] = (\n",
    "    df_train[\"Class\"]\n",
    "    .str.lower()\n",
    "    .str.replace(r\"^sound_\", \"\", regex=True)\n",
    "    .str.replace(r\"(?i)^guiatr$\", \"guitar\", regex=True)\n",
    ")\n",
    "\n",
    "# Guarda o nome original antes da normalização\n",
    "df_train[\"OriginalFilename\"] = df_train[\"FileName\"]\n",
    "\n",
    "# Normaliza o nome dos arquivos\n",
    "df_train[\"FileName\"] = df_train[\"FileName\"].apply(normalize_filename)\n",
    "\n",
    "df_train.head()\n"
   ]
  },
  {
   "cell_type": "code",
   "execution_count": 48,
   "id": "5ea598f7",
   "metadata": {},
   "outputs": [],
   "source": [
    "os.makedirs(NORMALIZED_DATASET_PATH, exist_ok=True)\n",
    "NORMALIZED_TRAIN_AUDIOS_DIR.mkdir(parents=True, exist_ok=True)"
   ]
  },
  {
   "cell_type": "code",
   "execution_count": 49,
   "id": "06a09d80",
   "metadata": {},
   "outputs": [
    {
     "name": "stdout",
     "output_type": "stream",
     "text": [
      "missing: []\n"
     ]
    }
   ],
   "source": [
    "missing_train_files = []\n",
    "\n",
    "for _, row in df_train.iterrows():\n",
    "    original_file = RAW_TRAIN_AUDIOS_DIR / row[\"OriginalFilename\"]\n",
    "    normalized_file = NORMALIZED_TRAIN_AUDIOS_DIR / row[\"FileName\"]\n",
    "\n",
    "    if original_file.exists():\n",
    "        shutil.copy2(original_file, normalized_file)\n",
    "    else:\n",
    "        missing_train_files.append(str(original_file))\n",
    "\n",
    "print(f\"missing: {missing_train_files}\")\n"
   ]
  },
  {
   "cell_type": "code",
   "execution_count": 50,
   "id": "0459e1cd",
   "metadata": {},
   "outputs": [],
   "source": [
    "df_train = df_train.drop(columns=[\"OriginalFilename\"])\n",
    "df_train.columns = (\n",
    "    df_train.columns\n",
    "    .str.strip()\n",
    "    .str.lower()\n",
    "    .str.replace(r\"[^a-z0-9]+\", \"_\", regex=True)\n",
    "    .str.strip(\"_\")\n",
    ")\n",
    "\n",
    "df_train.to_csv(NORMALIZED_TRAIN_CSV_PATH, index=False)\n"
   ]
  },
  {
   "cell_type": "code",
   "execution_count": 51,
   "id": "57e3cbec",
   "metadata": {},
   "outputs": [
    {
     "name": "stdout",
     "output_type": "stream",
     "text": [
      "✅ Arquivos normalizados e copiados para: ../datasets/normalized/train_data\n",
      "📄 Novo CSV salvo em: ../datasets/normalized/train_metadata.csv\n",
      "🎉 Todos os arquivos foram encontrados e copiados com sucesso!\n"
     ]
    }
   ],
   "source": [
    "print(f\"✅ Arquivos normalizados e copiados para: {NORMALIZED_TRAIN_AUDIOS_DIR}\")\n",
    "print(f\"📄 Novo CSV salvo em: {NORMALIZED_TRAIN_CSV_PATH}\")\n",
    "\n",
    "if missing_train_files:\n",
    "    print(f\"⚠️ Arquivos ausentes ({len(missing_train_files)}):\")\n",
    "    for f in missing_train_files[:5]:\n",
    "        print(f\" - {f}\")\n",
    "else:\n",
    "    print(\"🎉 Todos os arquivos foram encontrados e copiados com sucesso!\")"
   ]
  }
 ],
 "metadata": {
  "kernelspec": {
   "display_name": ".venv",
   "language": "python",
   "name": "python3"
  },
  "language_info": {
   "codemirror_mode": {
    "name": "ipython",
    "version": 3
   },
   "file_extension": ".py",
   "mimetype": "text/x-python",
   "name": "python",
   "nbconvert_exporter": "python",
   "pygments_lexer": "ipython3",
   "version": "3.9.16"
  }
 },
 "nbformat": 4,
 "nbformat_minor": 5
}
