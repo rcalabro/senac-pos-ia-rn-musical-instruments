{
 "cells": [
  {
   "cell_type": "code",
   "execution_count": 24,
   "id": "d8a1a65e",
   "metadata": {},
   "outputs": [
    {
     "name": "stdout",
     "output_type": "stream",
     "text": [
      "Downloading from https://www.kaggle.com/api/v1/datasets/download/soumendraprasad/musical-instruments-sound-dataset?dataset_version_number=3...\n"
     ]
    },
    {
     "name": "stderr",
     "output_type": "stream",
     "text": [
      "100%|██████████| 5.40G/5.40G [03:20<00:00, 28.9MB/s]  "
     ]
    },
    {
     "name": "stdout",
     "output_type": "stream",
     "text": [
      "Extracting files...\n"
     ]
    },
    {
     "name": "stderr",
     "output_type": "stream",
     "text": [
      "\n"
     ]
    },
    {
     "name": "stdout",
     "output_type": "stream",
     "text": [
      "Kaggle downloaded files: /home/rcalabro/.cache/kagglehub/datasets/soumendraprasad/musical-instruments-sound-dataset/versions/3\n",
      "Moved kaggle files to: /home/rcalabro/.cache/kagglehub/datasets/soumendraprasad/musical-instruments-sound-dataset/versions/3\n"
     ]
    }
   ],
   "source": [
    "import kagglehub\n",
    "import shutil\n",
    "import os\n",
    "\n",
    "dataset_path = '../datasets/raw'\n",
    "force_download = False\n",
    "\n",
    "# Download latest version\n",
    "path = kagglehub.dataset_download(\"soumendraprasad/musical-instruments-sound-dataset\", force_download=force_download)\n",
    "print(\"Kaggle downloaded files:\", path)\n",
    "\n",
    "# Cria a pasta de destino, se não existir\n",
    "os.makedirs(dataset_path, exist_ok=True)\n",
    "\n",
    "shutil.copytree(\n",
    "    src=path,\n",
    "    dst=dataset_path,\n",
    "    dirs_exist_ok=True  # Permite copiar para pasta existente\n",
    ")\n",
    "\n",
    "print(\"Moved kaggle files to:\", path)"
   ]
  }
 ],
 "metadata": {
  "kernelspec": {
   "display_name": ".venv",
   "language": "python",
   "name": "python3"
  },
  "language_info": {
   "codemirror_mode": {
    "name": "ipython",
    "version": 3
   },
   "file_extension": ".py",
   "mimetype": "text/x-python",
   "name": "python",
   "nbconvert_exporter": "python",
   "pygments_lexer": "ipython3",
   "version": "3.9.16"
  }
 },
 "nbformat": 4,
 "nbformat_minor": 5
}
