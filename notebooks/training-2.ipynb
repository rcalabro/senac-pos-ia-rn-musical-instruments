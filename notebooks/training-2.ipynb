{
 "cells": [
  {
   "cell_type": "markdown",
   "id": "e95b9cbc",
   "metadata": {},
   "source": [
    "# Traning - Features"
   ]
  },
  {
   "cell_type": "code",
   "execution_count": null,
   "id": "1d029b98",
   "metadata": {},
   "outputs": [],
   "source": [
    "%pip install -r ../requirements.txt"
   ]
  },
  {
   "cell_type": "code",
   "execution_count": 80,
   "id": "fc395302",
   "metadata": {},
   "outputs": [
    {
     "name": "stdout",
     "output_type": "stream",
     "text": [
      "TensorFlow: 2.19.0\n",
      "Keras: 3.9.2\n",
      "Is TensorFlow using GPU? True\n",
      "GPU disponível: [PhysicalDevice(name='/physical_device:GPU:0', device_type='GPU')]\n",
      "XLA ativado: \n"
     ]
    },
    {
     "name": "stderr",
     "output_type": "stream",
     "text": [
      "I0000 00:00:1745704370.791005   10894 gpu_device.cc:2019] Created device /device:GPU:0 with 4047 MB memory:  -> device: 0, name: NVIDIA GeForce RTX 2060, pci bus id: 0000:0a:00.0, compute capability: 7.5\n"
     ]
    },
    {
     "data": {
      "text/plain": [
       "[PhysicalDevice(name='/physical_device:CPU:0', device_type='CPU'),\n",
       " PhysicalDevice(name='/physical_device:GPU:0', device_type='GPU')]"
      ]
     },
     "execution_count": 80,
     "metadata": {},
     "output_type": "execute_result"
    }
   ],
   "source": [
    "import os\n",
    "os.environ['TF_CPP_MIN_LOG_LEVEL'] = '0'\n",
    "os.environ['ABSL_LOG_THRESHOLD'] = '0'\n",
    "\n",
    "import time\n",
    "from pathlib import Path\n",
    "import pandas as pd\n",
    "import numpy as np\n",
    "import matplotlib.pyplot as plt\n",
    "from sklearn.utils import resample\n",
    "from sklearn.metrics import classification_report, confusion_matrix, ConfusionMatrixDisplay\n",
    "from sklearn.preprocessing import LabelEncoder\n",
    "from scipy.io import wavfile\n",
    "import keras\n",
    "import tensorflow as tf\n",
    "from tensorflow.keras import layers, models\n",
    "from tensorflow.keras.utils import Sequence\n",
    "from sklearn.utils.class_weight import compute_class_weight\n",
    "import librosa\n",
    "import soundfile as sf\n",
    "from tqdm import tqdm\n",
    "from functools import partial\n",
    "import json\n",
    "import ast\n",
    "from sklearn.model_selection import train_test_split\n",
    "from tensorflow.keras.utils import to_categorical\n",
    "\n",
    "\n",
    "print(\"TensorFlow:\", tf.__version__)\n",
    "print(\"Keras:\", keras.__version__)\n",
    "print(\"Is TensorFlow using GPU?\", tf.test.is_gpu_available())\n",
    "print(\"GPU disponível:\", tf.config.list_physical_devices('GPU'))\n",
    "print(\"XLA ativado:\", tf.config.optimizer.get_jit())\n",
    "# Mostra configuração geral\n",
    "tf.config.experimental.list_physical_devices()"
   ]
  },
  {
   "cell_type": "code",
   "execution_count": 30,
   "id": "07406475",
   "metadata": {},
   "outputs": [],
   "source": [
    "AUGMENTED_DATASET_PATH = '../datasets/augmented'\n",
    "AUGMENTED_DATASET_VERSION = 'v2'\n",
    "\n",
    "AUGMENTED_DATASET_VERSION_PATH = Path(os.path.join(AUGMENTED_DATASET_PATH, AUGMENTED_DATASET_VERSION))\n",
    "AUGMENTED_DATASET_TRAIN_METADATA = AUGMENTED_DATASET_VERSION_PATH / 'train_metadata.csv'\n",
    "AUGMENTED_DATASET_TRAIN_DATA = AUGMENTED_DATASET_VERSION_PATH / 'train_data'\n",
    "\n",
    "AUGMENTED_DATASET_TEST_METADATA = AUGMENTED_DATASET_VERSION_PATH / 'test_metadata.csv'\n",
    "AUGMENTED_DATASET_TEST_DATA = AUGMENTED_DATASET_VERSION_PATH / 'test_data'"
   ]
  },
  {
   "cell_type": "code",
   "execution_count": null,
   "id": "c5fc27e6",
   "metadata": {},
   "outputs": [
    {
     "name": "stdout",
     "output_type": "stream",
     "text": [
      "📁 Versão ../datasets/training/v3: ../datasets/training/v3\n",
      "📁 Versão ../datasets/training/v3/train_data: ../datasets/training/v3/train_data\n",
      "📁 Versão ../datasets/training/v3/test_data: ../datasets/training/v3/test_data\n"
     ]
    }
   ],
   "source": [
    "TRAINING_DATASET_PATH = '../datasets/training'\n",
    "TRAINING_DATASET_VERSION = 'v3'\n",
    "\n",
    "TRAINING_DATASET_VERSION_PATH = Path(os.path.join(TRAINING_DATASET_PATH, TRAINING_DATASET_VERSION))\n",
    "TRAINING_DATASET_TRAIN_METADATA = TRAINING_DATASET_VERSION_PATH / 'train_metadata.csv'\n",
    "TRAINING_DATASET_TEST_METADATA = TRAINING_DATASET_VERSION_PATH / 'test_metadata.csv'\n",
    "\n",
    "TRAINING_DATASET_VERSION_PATH.mkdir(parents=True, exist_ok=True)\n",
    "print(f\"📁 Versão {TRAINING_DATASET_VERSION_PATH}: {TRAINING_DATASET_VERSION_PATH}\")"
   ]
  },
  {
   "cell_type": "code",
   "execution_count": 52,
   "id": "859986b1",
   "metadata": {},
   "outputs": [],
   "source": [
    "def extract_features(row, basepath):\n",
    "    filename = row[\"filename\"]\n",
    "    filepath = basepath / filename\n",
    "    audio,sample_rate=librosa.load(filepath,res_type='kaiser_fast')\n",
    "    mfccs_features=librosa.feature.mfcc(y=audio,sr=sample_rate,n_mfcc=40)\n",
    "    mfccs_scaled_features = np.mean(mfccs_features.T,axis=0)\n",
    "    return mfccs_scaled_features"
   ]
  },
  {
   "cell_type": "code",
   "execution_count": null,
   "id": "c7012556",
   "metadata": {},
   "outputs": [],
   "source": [
    "def prepare_dataset(metadata_file: str, data_path, output_file: str):\n",
    "    tqdm.pandas()\n",
    "\n",
    "    print(f\"🔍 Lendo metadata: {metadata_file}\\n\")\n",
    "    df = pd.read_csv(metadata_file)\n",
    "\n",
    "    print(\"🎧 Extraindo features...\")\n",
    "    extract_func = partial(extract_features, basepath=data_path)\n",
    "    df['features'] = df.progress_apply(extract_func, axis=1)\n",
    "\n",
    "    print(\"🔄 Formatando features para salvar...\")\n",
    "    df['features'] = df['features'].progress_apply(lambda x: json.dumps(x.tolist()))\n",
    "\n",
    "    # Remove colunas desnecessárias\n",
    "    df = df.drop(columns=['filename', 'augmentation'])\n",
    "\n",
    "    print(f\"💾 Salvando metadata final em: {output_file}\")\n",
    "    df.to_csv(output_file, index=False)\n",
    "\n",
    "    print(f\"✅ Processo concluído! Total de registros: {len(df)}\")\n",
    "    return df\n"
   ]
  },
  {
   "cell_type": "code",
   "execution_count": 71,
   "id": "9bbeb779",
   "metadata": {},
   "outputs": [
    {
     "name": "stdout",
     "output_type": "stream",
     "text": [
      "🔍 Lendo metadata: ../datasets/augmented/v2/test_metadata.csv\n",
      "\n",
      "🎧 Extraindo features...\n"
     ]
    },
    {
     "name": "stderr",
     "output_type": "stream",
     "text": [
      "100%|██████████| 480/480 [00:21<00:00, 22.69it/s]\n"
     ]
    },
    {
     "name": "stdout",
     "output_type": "stream",
     "text": [
      "🔄 Formatando features para salvar...\n"
     ]
    },
    {
     "name": "stderr",
     "output_type": "stream",
     "text": [
      "100%|██████████| 480/480 [00:00<00:00, 25276.09it/s]"
     ]
    },
    {
     "name": "stdout",
     "output_type": "stream",
     "text": [
      "💾 Salvando metadata final em: ../datasets/training/v3/test_metadata.csv\n",
      "✅ Processo concluído! Total de registros: 480\n"
     ]
    },
    {
     "name": "stderr",
     "output_type": "stream",
     "text": [
      "\n"
     ]
    }
   ],
   "source": [
    "prepare_dataset(\n",
    "    metadata_file=AUGMENTED_DATASET_TEST_METADATA,\n",
    "    data_path=AUGMENTED_DATASET_TEST_DATA,\n",
    "    output_file=TRAINING_DATASET_TEST_METADATA\n",
    ")"
   ]
  },
  {
   "cell_type": "code",
   "execution_count": null,
   "id": "3485592a",
   "metadata": {},
   "outputs": [
    {
     "name": "stdout",
     "output_type": "stream",
     "text": [
      "🔍 Lendo metadata: ../datasets/augmented/v2/train_metadata.csv\n",
      "\n",
      "🎧 Extraindo features...\n"
     ]
    },
    {
     "name": "stderr",
     "output_type": "stream",
     "text": [
      "  0%|          | 0/15774 [00:00<?, ?it/s]"
     ]
    },
    {
     "name": "stderr",
     "output_type": "stream",
     "text": [
      "100%|██████████| 15774/15774 [08:29<00:00, 30.97it/s] \n"
     ]
    },
    {
     "name": "stdout",
     "output_type": "stream",
     "text": [
      "🔄 Formatando features para salvar...\n"
     ]
    },
    {
     "name": "stderr",
     "output_type": "stream",
     "text": [
      "100%|██████████| 15774/15774 [00:00<00:00, 36796.81it/s]\n"
     ]
    },
    {
     "name": "stdout",
     "output_type": "stream",
     "text": [
      "💾 Salvando metadata final em: ../datasets/training/v3/train_metadata.csv\n",
      "✅ Processo concluído! Total de registros: 15774\n"
     ]
    }
   ],
   "source": [
    "prepare_dataset(\n",
    "    metadata_file=AUGMENTED_DATASET_TRAIN_METADATA,\n",
    "    data_path=AUGMENTED_DATASET_TRAIN_DATA,\n",
    "    output_file=TRAINING_DATASET_TRAIN_METADATA\n",
    ")"
   ]
  },
  {
   "cell_type": "code",
   "execution_count": null,
   "id": "204e2943",
   "metadata": {},
   "outputs": [
    {
     "name": "stderr",
     "output_type": "stream",
     "text": [
      "100%|██████████| 15774/15774 [00:02<00:00, 7579.02it/s]\n"
     ]
    },
    {
     "data": {
      "text/html": [
       "<div>\n",
       "<style scoped>\n",
       "    .dataframe tbody tr th:only-of-type {\n",
       "        vertical-align: middle;\n",
       "    }\n",
       "\n",
       "    .dataframe tbody tr th {\n",
       "        vertical-align: top;\n",
       "    }\n",
       "\n",
       "    .dataframe thead th {\n",
       "        text-align: right;\n",
       "    }\n",
       "</style>\n",
       "<table border=\"1\" class=\"dataframe\">\n",
       "  <thead>\n",
       "    <tr style=\"text-align: right;\">\n",
       "      <th></th>\n",
       "      <th>class</th>\n",
       "      <th>features</th>\n",
       "      <th>label</th>\n",
       "    </tr>\n",
       "  </thead>\n",
       "  <tbody>\n",
       "    <tr>\n",
       "      <th>0</th>\n",
       "      <td>drum</td>\n",
       "      <td>[-116.5557861328125, 57.869659423828125, -6.78...</td>\n",
       "      <td>0</td>\n",
       "    </tr>\n",
       "    <tr>\n",
       "      <th>1</th>\n",
       "      <td>drum</td>\n",
       "      <td>[-106.1605224609375, 53.76694107055664, -6.617...</td>\n",
       "      <td>0</td>\n",
       "    </tr>\n",
       "    <tr>\n",
       "      <th>2</th>\n",
       "      <td>drum</td>\n",
       "      <td>[-111.37716674804688, 56.37688064575195, -8.95...</td>\n",
       "      <td>0</td>\n",
       "    </tr>\n",
       "    <tr>\n",
       "      <th>3</th>\n",
       "      <td>drum</td>\n",
       "      <td>[-108.94854736328125, 48.71305465698242, -2.92...</td>\n",
       "      <td>0</td>\n",
       "    </tr>\n",
       "    <tr>\n",
       "      <th>4</th>\n",
       "      <td>drum</td>\n",
       "      <td>[-98.67511749267578, 57.76403045654297, -6.830...</td>\n",
       "      <td>0</td>\n",
       "    </tr>\n",
       "  </tbody>\n",
       "</table>\n",
       "</div>"
      ],
      "text/plain": [
       "  class                                           features  label\n",
       "0  drum  [-116.5557861328125, 57.869659423828125, -6.78...      0\n",
       "1  drum  [-106.1605224609375, 53.76694107055664, -6.617...      0\n",
       "2  drum  [-111.37716674804688, 56.37688064575195, -8.95...      0\n",
       "3  drum  [-108.94854736328125, 48.71305465698242, -2.92...      0\n",
       "4  drum  [-98.67511749267578, 57.76403045654297, -6.830...      0"
      ]
     },
     "execution_count": 79,
     "metadata": {},
     "output_type": "execute_result"
    }
   ],
   "source": [
    "tqdm.pandas()\n",
    "train_df = pd.read_csv(TRAINING_DATASET_TRAIN_METADATA)\n",
    "\n",
    "train_df['features'] = train_df['features'].progress_apply(lambda x: np.array(ast.literal_eval(x)))\n",
    "\n",
    "\n",
    "label_encoder = LabelEncoder()\n",
    "train_df['label'] = label_encoder.fit_transform(train_df['class'])\n",
    "\n",
    "train_df.head()\n",
    "\n",
    "X = np.stack(train_df['features'].values)\n",
    "y = train_df['label'].values\n",
    "\n",
    "X_train, X_val, y_train, y_val = train_test_split(\n",
    "    X, y,\n",
    "    test_size=0.2,\n",
    "    random_state=42,\n",
    "    stratify=y\n",
    ")\n"
   ]
  },
  {
   "cell_type": "code",
   "execution_count": 74,
   "id": "8cb158e8",
   "metadata": {},
   "outputs": [
    {
     "name": "stderr",
     "output_type": "stream",
     "text": [
      "/home/rcalabro/codebase/senac-ia/neural-networks/rn-musical-instruments/.venv/lib/python3.9/site-packages/keras/src/layers/core/dense.py:87: UserWarning: Do not pass an `input_shape`/`input_dim` argument to a layer. When using Sequential models, prefer using an `Input(shape)` object as the first layer in the model instead.\n",
      "  super().__init__(activity_regularizer=activity_regularizer, **kwargs)\n",
      "I0000 00:00:1745704006.978230   10894 gpu_device.cc:2019] Created device /job:localhost/replica:0/task:0/device:GPU:0 with 4047 MB memory:  -> device: 0, name: NVIDIA GeForce RTX 2060, pci bus id: 0000:0a:00.0, compute capability: 7.5\n"
     ]
    },
    {
     "ename": "NameError",
     "evalue": "name 'num_labels' is not defined",
     "output_type": "error",
     "traceback": [
      "\u001b[0;31m---------------------------------------------------------------------------\u001b[0m",
      "\u001b[0;31mNameError\u001b[0m                                 Traceback (most recent call last)",
      "Cell \u001b[0;32mIn[74], line 14\u001b[0m\n\u001b[1;32m      1\u001b[0m model \u001b[38;5;241m=\u001b[39m models\u001b[38;5;241m.\u001b[39mSequential([\n\u001b[1;32m      2\u001b[0m     layers\u001b[38;5;241m.\u001b[39mDense(\u001b[38;5;241m128\u001b[39m, activation\u001b[38;5;241m=\u001b[39m\u001b[38;5;124m'\u001b[39m\u001b[38;5;124mrelu\u001b[39m\u001b[38;5;124m'\u001b[39m, input_shape\u001b[38;5;241m=\u001b[39m(\u001b[38;5;241m40\u001b[39m,)),\n\u001b[1;32m      3\u001b[0m     layers\u001b[38;5;241m.\u001b[39mBatchNormalization(),\n\u001b[1;32m      4\u001b[0m     layers\u001b[38;5;241m.\u001b[39mDropout(\u001b[38;5;241m0.3\u001b[39m),\n\u001b[1;32m      5\u001b[0m \n\u001b[1;32m      6\u001b[0m     layers\u001b[38;5;241m.\u001b[39mDense(\u001b[38;5;241m256\u001b[39m, activation\u001b[38;5;241m=\u001b[39m\u001b[38;5;124m'\u001b[39m\u001b[38;5;124mrelu\u001b[39m\u001b[38;5;124m'\u001b[39m),\n\u001b[1;32m      7\u001b[0m     layers\u001b[38;5;241m.\u001b[39mBatchNormalization(),\n\u001b[1;32m      8\u001b[0m     layers\u001b[38;5;241m.\u001b[39mDropout(\u001b[38;5;241m0.4\u001b[39m),\n\u001b[1;32m      9\u001b[0m \n\u001b[1;32m     10\u001b[0m     layers\u001b[38;5;241m.\u001b[39mDense(\u001b[38;5;241m128\u001b[39m, activation\u001b[38;5;241m=\u001b[39m\u001b[38;5;124m'\u001b[39m\u001b[38;5;124mrelu\u001b[39m\u001b[38;5;124m'\u001b[39m),\n\u001b[1;32m     11\u001b[0m     layers\u001b[38;5;241m.\u001b[39mBatchNormalization(),\n\u001b[1;32m     12\u001b[0m     layers\u001b[38;5;241m.\u001b[39mDropout(\u001b[38;5;241m0.3\u001b[39m),\n\u001b[1;32m     13\u001b[0m \n\u001b[0;32m---> 14\u001b[0m     layers\u001b[38;5;241m.\u001b[39mDense(\u001b[43mnum_labels\u001b[49m, activation\u001b[38;5;241m=\u001b[39m\u001b[38;5;124m'\u001b[39m\u001b[38;5;124msoftmax\u001b[39m\u001b[38;5;124m'\u001b[39m)\n\u001b[1;32m     15\u001b[0m ])\n\u001b[1;32m     17\u001b[0m model\u001b[38;5;241m.\u001b[39mcompile(\n\u001b[1;32m     18\u001b[0m     loss\u001b[38;5;241m=\u001b[39m\u001b[38;5;124m'\u001b[39m\u001b[38;5;124msparse_categorical_crossentropy\u001b[39m\u001b[38;5;124m'\u001b[39m,\n\u001b[1;32m     19\u001b[0m     optimizer\u001b[38;5;241m=\u001b[39m\u001b[38;5;124m'\u001b[39m\u001b[38;5;124madam\u001b[39m\u001b[38;5;124m'\u001b[39m,\n\u001b[1;32m     20\u001b[0m     metrics\u001b[38;5;241m=\u001b[39m[\u001b[38;5;124m'\u001b[39m\u001b[38;5;124maccuracy\u001b[39m\u001b[38;5;124m'\u001b[39m]\n\u001b[1;32m     21\u001b[0m )\n",
      "\u001b[0;31mNameError\u001b[0m: name 'num_labels' is not defined"
     ]
    }
   ],
   "source": [
    "model = models.Sequential([\n",
    "    layers.Dense(128, activation='relu', input_shape=(40,)),\n",
    "    layers.BatchNormalization(),\n",
    "    layers.Dropout(0.3),\n",
    "\n",
    "    layers.Dense(256, activation='relu'),\n",
    "    layers.BatchNormalization(),\n",
    "    layers.Dropout(0.4),\n",
    "\n",
    "    layers.Dense(128, activation='relu'),\n",
    "    layers.BatchNormalization(),\n",
    "    layers.Dropout(0.3),\n",
    "\n",
    "    layers.Dense(num_labels, activation='softmax')\n",
    "])\n",
    "\n",
    "model.compile(\n",
    "    loss='sparse_categorical_crossentropy',\n",
    "    optimizer='adam',\n",
    "    metrics=['accuracy']\n",
    ")"
   ]
  },
  {
   "cell_type": "code",
   "execution_count": null,
   "id": "72e53a0d",
   "metadata": {},
   "outputs": [],
   "source": []
  },
  {
   "cell_type": "code",
   "execution_count": null,
   "id": "3a92f938",
   "metadata": {},
   "outputs": [],
   "source": []
  }
 ],
 "metadata": {
  "kernelspec": {
   "display_name": ".venv",
   "language": "python",
   "name": "python3"
  },
  "language_info": {
   "codemirror_mode": {
    "name": "ipython",
    "version": 3
   },
   "file_extension": ".py",
   "mimetype": "text/x-python",
   "name": "python",
   "nbconvert_exporter": "python",
   "pygments_lexer": "ipython3",
   "version": "3.9.16"
  }
 },
 "nbformat": 4,
 "nbformat_minor": 5
}
