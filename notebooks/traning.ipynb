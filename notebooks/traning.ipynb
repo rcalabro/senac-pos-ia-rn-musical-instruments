{
 "cells": [
  {
   "cell_type": "markdown",
   "id": "e2b87a57",
   "metadata": {},
   "source": [
    "# Training"
   ]
  },
  {
   "cell_type": "code",
   "execution_count": 1,
   "id": "032c67fe",
   "metadata": {},
   "outputs": [
    {
     "name": "stdout",
     "output_type": "stream",
     "text": [
      "Requirement already satisfied: absl-py==2.2.2 in /home/rcalabro/codebase/senac-ia/neural-networks/rn-musical-instruments/.venv/lib/python3.9/site-packages (from -r ../requirements.txt (line 1)) (2.2.2)\n",
      "Requirement already satisfied: asttokens==3.0.0 in /home/rcalabro/codebase/senac-ia/neural-networks/rn-musical-instruments/.venv/lib/python3.9/site-packages (from -r ../requirements.txt (line 2)) (3.0.0)\n",
      "Requirement already satisfied: astunparse==1.6.3 in /home/rcalabro/codebase/senac-ia/neural-networks/rn-musical-instruments/.venv/lib/python3.9/site-packages (from -r ../requirements.txt (line 3)) (1.6.3)\n",
      "Requirement already satisfied: audioread==3.0.1 in /home/rcalabro/codebase/senac-ia/neural-networks/rn-musical-instruments/.venv/lib/python3.9/site-packages (from -r ../requirements.txt (line 4)) (3.0.1)\n",
      "Requirement already satisfied: certifi==2025.1.31 in /home/rcalabro/codebase/senac-ia/neural-networks/rn-musical-instruments/.venv/lib/python3.9/site-packages (from -r ../requirements.txt (line 5)) (2025.1.31)\n",
      "Requirement already satisfied: cffi==1.17.1 in /home/rcalabro/codebase/senac-ia/neural-networks/rn-musical-instruments/.venv/lib/python3.9/site-packages (from -r ../requirements.txt (line 6)) (1.17.1)\n",
      "Requirement already satisfied: charset-normalizer==3.4.1 in /home/rcalabro/codebase/senac-ia/neural-networks/rn-musical-instruments/.venv/lib/python3.9/site-packages (from -r ../requirements.txt (line 7)) (3.4.1)\n",
      "Requirement already satisfied: comm==0.2.2 in /home/rcalabro/codebase/senac-ia/neural-networks/rn-musical-instruments/.venv/lib/python3.9/site-packages (from -r ../requirements.txt (line 8)) (0.2.2)\n",
      "Requirement already satisfied: contourpy==1.3.0 in /home/rcalabro/codebase/senac-ia/neural-networks/rn-musical-instruments/.venv/lib/python3.9/site-packages (from -r ../requirements.txt (line 9)) (1.3.0)\n",
      "Requirement already satisfied: cycler==0.12.1 in /home/rcalabro/codebase/senac-ia/neural-networks/rn-musical-instruments/.venv/lib/python3.9/site-packages (from -r ../requirements.txt (line 10)) (0.12.1)\n",
      "Requirement already satisfied: debugpy==1.8.14 in /home/rcalabro/codebase/senac-ia/neural-networks/rn-musical-instruments/.venv/lib/python3.9/site-packages (from -r ../requirements.txt (line 11)) (1.8.14)\n",
      "Requirement already satisfied: decorator==5.2.1 in /home/rcalabro/codebase/senac-ia/neural-networks/rn-musical-instruments/.venv/lib/python3.9/site-packages (from -r ../requirements.txt (line 12)) (5.2.1)\n",
      "Requirement already satisfied: exceptiongroup==1.2.2 in /home/rcalabro/codebase/senac-ia/neural-networks/rn-musical-instruments/.venv/lib/python3.9/site-packages (from -r ../requirements.txt (line 13)) (1.2.2)\n",
      "Requirement already satisfied: executing==2.2.0 in /home/rcalabro/codebase/senac-ia/neural-networks/rn-musical-instruments/.venv/lib/python3.9/site-packages (from -r ../requirements.txt (line 14)) (2.2.0)\n",
      "Requirement already satisfied: flatbuffers==25.2.10 in /home/rcalabro/codebase/senac-ia/neural-networks/rn-musical-instruments/.venv/lib/python3.9/site-packages (from -r ../requirements.txt (line 15)) (25.2.10)\n",
      "Requirement already satisfied: fonttools==4.57.0 in /home/rcalabro/codebase/senac-ia/neural-networks/rn-musical-instruments/.venv/lib/python3.9/site-packages (from -r ../requirements.txt (line 16)) (4.57.0)\n",
      "Requirement already satisfied: gast==0.6.0 in /home/rcalabro/codebase/senac-ia/neural-networks/rn-musical-instruments/.venv/lib/python3.9/site-packages (from -r ../requirements.txt (line 17)) (0.6.0)\n",
      "Requirement already satisfied: google-pasta==0.2.0 in /home/rcalabro/codebase/senac-ia/neural-networks/rn-musical-instruments/.venv/lib/python3.9/site-packages (from -r ../requirements.txt (line 18)) (0.2.0)\n",
      "Requirement already satisfied: grpcio==1.71.0 in /home/rcalabro/codebase/senac-ia/neural-networks/rn-musical-instruments/.venv/lib/python3.9/site-packages (from -r ../requirements.txt (line 19)) (1.71.0)\n",
      "Requirement already satisfied: h5py==3.13.0 in /home/rcalabro/codebase/senac-ia/neural-networks/rn-musical-instruments/.venv/lib/python3.9/site-packages (from -r ../requirements.txt (line 20)) (3.13.0)\n",
      "Requirement already satisfied: idna==3.10 in /home/rcalabro/codebase/senac-ia/neural-networks/rn-musical-instruments/.venv/lib/python3.9/site-packages (from -r ../requirements.txt (line 21)) (3.10)\n",
      "Requirement already satisfied: importlib_metadata==8.6.1 in /home/rcalabro/codebase/senac-ia/neural-networks/rn-musical-instruments/.venv/lib/python3.9/site-packages (from -r ../requirements.txt (line 22)) (8.6.1)\n",
      "Requirement already satisfied: importlib_resources==6.5.2 in /home/rcalabro/codebase/senac-ia/neural-networks/rn-musical-instruments/.venv/lib/python3.9/site-packages (from -r ../requirements.txt (line 23)) (6.5.2)\n",
      "Requirement already satisfied: ipykernel==6.29.5 in /home/rcalabro/codebase/senac-ia/neural-networks/rn-musical-instruments/.venv/lib/python3.9/site-packages (from -r ../requirements.txt (line 24)) (6.29.5)\n",
      "Requirement already satisfied: ipython==8.18.1 in /home/rcalabro/codebase/senac-ia/neural-networks/rn-musical-instruments/.venv/lib/python3.9/site-packages (from -r ../requirements.txt (line 25)) (8.18.1)\n",
      "Requirement already satisfied: jedi==0.19.2 in /home/rcalabro/codebase/senac-ia/neural-networks/rn-musical-instruments/.venv/lib/python3.9/site-packages (from -r ../requirements.txt (line 26)) (0.19.2)\n",
      "Requirement already satisfied: joblib==1.4.2 in /home/rcalabro/codebase/senac-ia/neural-networks/rn-musical-instruments/.venv/lib/python3.9/site-packages (from -r ../requirements.txt (line 27)) (1.4.2)\n",
      "Requirement already satisfied: jupyter_client==8.6.3 in /home/rcalabro/codebase/senac-ia/neural-networks/rn-musical-instruments/.venv/lib/python3.9/site-packages (from -r ../requirements.txt (line 28)) (8.6.3)\n",
      "Requirement already satisfied: jupyter_core==5.7.2 in /home/rcalabro/codebase/senac-ia/neural-networks/rn-musical-instruments/.venv/lib/python3.9/site-packages (from -r ../requirements.txt (line 29)) (5.7.2)\n",
      "Requirement already satisfied: kagglehub==0.3.11 in /home/rcalabro/codebase/senac-ia/neural-networks/rn-musical-instruments/.venv/lib/python3.9/site-packages (from -r ../requirements.txt (line 30)) (0.3.11)\n",
      "Requirement already satisfied: keras==3.9.2 in /home/rcalabro/codebase/senac-ia/neural-networks/rn-musical-instruments/.venv/lib/python3.9/site-packages (from -r ../requirements.txt (line 31)) (3.9.2)\n",
      "Requirement already satisfied: kiwisolver==1.4.7 in /home/rcalabro/codebase/senac-ia/neural-networks/rn-musical-instruments/.venv/lib/python3.9/site-packages (from -r ../requirements.txt (line 32)) (1.4.7)\n",
      "Requirement already satisfied: lazy_loader==0.4 in /home/rcalabro/codebase/senac-ia/neural-networks/rn-musical-instruments/.venv/lib/python3.9/site-packages (from -r ../requirements.txt (line 33)) (0.4)\n",
      "Requirement already satisfied: libclang==18.1.1 in /home/rcalabro/codebase/senac-ia/neural-networks/rn-musical-instruments/.venv/lib/python3.9/site-packages (from -r ../requirements.txt (line 34)) (18.1.1)\n",
      "Requirement already satisfied: librosa==0.11.0 in /home/rcalabro/codebase/senac-ia/neural-networks/rn-musical-instruments/.venv/lib/python3.9/site-packages (from -r ../requirements.txt (line 35)) (0.11.0)\n",
      "Requirement already satisfied: llvmlite==0.43.0 in /home/rcalabro/codebase/senac-ia/neural-networks/rn-musical-instruments/.venv/lib/python3.9/site-packages (from -r ../requirements.txt (line 36)) (0.43.0)\n",
      "Requirement already satisfied: Markdown==3.8 in /home/rcalabro/codebase/senac-ia/neural-networks/rn-musical-instruments/.venv/lib/python3.9/site-packages (from -r ../requirements.txt (line 37)) (3.8)\n",
      "Requirement already satisfied: markdown-it-py==3.0.0 in /home/rcalabro/codebase/senac-ia/neural-networks/rn-musical-instruments/.venv/lib/python3.9/site-packages (from -r ../requirements.txt (line 38)) (3.0.0)\n",
      "Requirement already satisfied: MarkupSafe==3.0.2 in /home/rcalabro/codebase/senac-ia/neural-networks/rn-musical-instruments/.venv/lib/python3.9/site-packages (from -r ../requirements.txt (line 39)) (3.0.2)\n",
      "Requirement already satisfied: matplotlib==3.9.4 in /home/rcalabro/codebase/senac-ia/neural-networks/rn-musical-instruments/.venv/lib/python3.9/site-packages (from -r ../requirements.txt (line 40)) (3.9.4)\n",
      "Requirement already satisfied: matplotlib-inline==0.1.7 in /home/rcalabro/codebase/senac-ia/neural-networks/rn-musical-instruments/.venv/lib/python3.9/site-packages (from -r ../requirements.txt (line 41)) (0.1.7)\n",
      "Requirement already satisfied: mdurl==0.1.2 in /home/rcalabro/codebase/senac-ia/neural-networks/rn-musical-instruments/.venv/lib/python3.9/site-packages (from -r ../requirements.txt (line 42)) (0.1.2)\n",
      "Requirement already satisfied: ml_dtypes==0.5.1 in /home/rcalabro/codebase/senac-ia/neural-networks/rn-musical-instruments/.venv/lib/python3.9/site-packages (from -r ../requirements.txt (line 43)) (0.5.1)\n",
      "Requirement already satisfied: msgpack==1.1.0 in /home/rcalabro/codebase/senac-ia/neural-networks/rn-musical-instruments/.venv/lib/python3.9/site-packages (from -r ../requirements.txt (line 44)) (1.1.0)\n",
      "Requirement already satisfied: namex==0.0.8 in /home/rcalabro/codebase/senac-ia/neural-networks/rn-musical-instruments/.venv/lib/python3.9/site-packages (from -r ../requirements.txt (line 45)) (0.0.8)\n",
      "Requirement already satisfied: nest-asyncio==1.6.0 in /home/rcalabro/codebase/senac-ia/neural-networks/rn-musical-instruments/.venv/lib/python3.9/site-packages (from -r ../requirements.txt (line 46)) (1.6.0)\n",
      "Requirement already satisfied: numba==0.60.0 in /home/rcalabro/codebase/senac-ia/neural-networks/rn-musical-instruments/.venv/lib/python3.9/site-packages (from -r ../requirements.txt (line 47)) (0.60.0)\n",
      "Requirement already satisfied: numpy==2.0.2 in /home/rcalabro/codebase/senac-ia/neural-networks/rn-musical-instruments/.venv/lib/python3.9/site-packages (from -r ../requirements.txt (line 48)) (2.0.2)\n",
      "Requirement already satisfied: nvidia-cublas-cu12==12.5.3.2 in /home/rcalabro/codebase/senac-ia/neural-networks/rn-musical-instruments/.venv/lib/python3.9/site-packages (from -r ../requirements.txt (line 49)) (12.5.3.2)\n",
      "Requirement already satisfied: nvidia-cuda-cupti-cu12==12.5.82 in /home/rcalabro/codebase/senac-ia/neural-networks/rn-musical-instruments/.venv/lib/python3.9/site-packages (from -r ../requirements.txt (line 50)) (12.5.82)\n",
      "Requirement already satisfied: nvidia-cuda-nvcc-cu12==12.5.82 in /home/rcalabro/codebase/senac-ia/neural-networks/rn-musical-instruments/.venv/lib/python3.9/site-packages (from -r ../requirements.txt (line 51)) (12.5.82)\n",
      "Requirement already satisfied: nvidia-cuda-nvrtc-cu12==12.5.82 in /home/rcalabro/codebase/senac-ia/neural-networks/rn-musical-instruments/.venv/lib/python3.9/site-packages (from -r ../requirements.txt (line 52)) (12.5.82)\n",
      "Requirement already satisfied: nvidia-cuda-runtime-cu12==12.5.82 in /home/rcalabro/codebase/senac-ia/neural-networks/rn-musical-instruments/.venv/lib/python3.9/site-packages (from -r ../requirements.txt (line 53)) (12.5.82)\n",
      "Requirement already satisfied: nvidia-cudnn-cu12==9.3.0.75 in /home/rcalabro/codebase/senac-ia/neural-networks/rn-musical-instruments/.venv/lib/python3.9/site-packages (from -r ../requirements.txt (line 54)) (9.3.0.75)\n",
      "Requirement already satisfied: nvidia-cufft-cu12==11.2.3.61 in /home/rcalabro/codebase/senac-ia/neural-networks/rn-musical-instruments/.venv/lib/python3.9/site-packages (from -r ../requirements.txt (line 55)) (11.2.3.61)\n",
      "Requirement already satisfied: nvidia-curand-cu12==10.3.6.82 in /home/rcalabro/codebase/senac-ia/neural-networks/rn-musical-instruments/.venv/lib/python3.9/site-packages (from -r ../requirements.txt (line 56)) (10.3.6.82)\n",
      "Requirement already satisfied: nvidia-cusolver-cu12==11.6.3.83 in /home/rcalabro/codebase/senac-ia/neural-networks/rn-musical-instruments/.venv/lib/python3.9/site-packages (from -r ../requirements.txt (line 57)) (11.6.3.83)\n",
      "Requirement already satisfied: nvidia-cusparse-cu12==12.5.1.3 in /home/rcalabro/codebase/senac-ia/neural-networks/rn-musical-instruments/.venv/lib/python3.9/site-packages (from -r ../requirements.txt (line 58)) (12.5.1.3)\n",
      "Requirement already satisfied: nvidia-nccl-cu12==2.23.4 in /home/rcalabro/codebase/senac-ia/neural-networks/rn-musical-instruments/.venv/lib/python3.9/site-packages (from -r ../requirements.txt (line 59)) (2.23.4)\n",
      "Requirement already satisfied: nvidia-nvjitlink-cu12==12.5.82 in /home/rcalabro/codebase/senac-ia/neural-networks/rn-musical-instruments/.venv/lib/python3.9/site-packages (from -r ../requirements.txt (line 60)) (12.5.82)\n",
      "Requirement already satisfied: opencv-python==4.11.0.86 in /home/rcalabro/codebase/senac-ia/neural-networks/rn-musical-instruments/.venv/lib/python3.9/site-packages (from -r ../requirements.txt (line 61)) (4.11.0.86)\n",
      "Requirement already satisfied: opt_einsum==3.4.0 in /home/rcalabro/codebase/senac-ia/neural-networks/rn-musical-instruments/.venv/lib/python3.9/site-packages (from -r ../requirements.txt (line 62)) (3.4.0)\n",
      "Requirement already satisfied: optree==0.15.0 in /home/rcalabro/codebase/senac-ia/neural-networks/rn-musical-instruments/.venv/lib/python3.9/site-packages (from -r ../requirements.txt (line 63)) (0.15.0)\n",
      "Requirement already satisfied: packaging==24.2 in /home/rcalabro/codebase/senac-ia/neural-networks/rn-musical-instruments/.venv/lib/python3.9/site-packages (from -r ../requirements.txt (line 64)) (24.2)\n",
      "Requirement already satisfied: pandas==2.2.3 in /home/rcalabro/codebase/senac-ia/neural-networks/rn-musical-instruments/.venv/lib/python3.9/site-packages (from -r ../requirements.txt (line 65)) (2.2.3)\n",
      "Requirement already satisfied: parso==0.8.4 in /home/rcalabro/codebase/senac-ia/neural-networks/rn-musical-instruments/.venv/lib/python3.9/site-packages (from -r ../requirements.txt (line 66)) (0.8.4)\n",
      "Requirement already satisfied: pexpect==4.9.0 in /home/rcalabro/codebase/senac-ia/neural-networks/rn-musical-instruments/.venv/lib/python3.9/site-packages (from -r ../requirements.txt (line 67)) (4.9.0)\n",
      "Requirement already satisfied: pillow==11.2.1 in /home/rcalabro/codebase/senac-ia/neural-networks/rn-musical-instruments/.venv/lib/python3.9/site-packages (from -r ../requirements.txt (line 68)) (11.2.1)\n",
      "Requirement already satisfied: platformdirs==4.3.7 in /home/rcalabro/codebase/senac-ia/neural-networks/rn-musical-instruments/.venv/lib/python3.9/site-packages (from -r ../requirements.txt (line 69)) (4.3.7)\n",
      "Requirement already satisfied: pooch==1.8.2 in /home/rcalabro/codebase/senac-ia/neural-networks/rn-musical-instruments/.venv/lib/python3.9/site-packages (from -r ../requirements.txt (line 70)) (1.8.2)\n",
      "Requirement already satisfied: prompt_toolkit==3.0.51 in /home/rcalabro/codebase/senac-ia/neural-networks/rn-musical-instruments/.venv/lib/python3.9/site-packages (from -r ../requirements.txt (line 71)) (3.0.51)\n",
      "Requirement already satisfied: protobuf==5.29.4 in /home/rcalabro/codebase/senac-ia/neural-networks/rn-musical-instruments/.venv/lib/python3.9/site-packages (from -r ../requirements.txt (line 72)) (5.29.4)\n",
      "Requirement already satisfied: psutil==7.0.0 in /home/rcalabro/codebase/senac-ia/neural-networks/rn-musical-instruments/.venv/lib/python3.9/site-packages (from -r ../requirements.txt (line 73)) (7.0.0)\n",
      "Requirement already satisfied: ptyprocess==0.7.0 in /home/rcalabro/codebase/senac-ia/neural-networks/rn-musical-instruments/.venv/lib/python3.9/site-packages (from -r ../requirements.txt (line 74)) (0.7.0)\n",
      "Requirement already satisfied: pure_eval==0.2.3 in /home/rcalabro/codebase/senac-ia/neural-networks/rn-musical-instruments/.venv/lib/python3.9/site-packages (from -r ../requirements.txt (line 75)) (0.2.3)\n",
      "Requirement already satisfied: pycparser==2.22 in /home/rcalabro/codebase/senac-ia/neural-networks/rn-musical-instruments/.venv/lib/python3.9/site-packages (from -r ../requirements.txt (line 76)) (2.22)\n",
      "Requirement already satisfied: Pygments==2.19.1 in /home/rcalabro/codebase/senac-ia/neural-networks/rn-musical-instruments/.venv/lib/python3.9/site-packages (from -r ../requirements.txt (line 77)) (2.19.1)\n",
      "Requirement already satisfied: pyparsing==3.2.3 in /home/rcalabro/codebase/senac-ia/neural-networks/rn-musical-instruments/.venv/lib/python3.9/site-packages (from -r ../requirements.txt (line 78)) (3.2.3)\n",
      "Requirement already satisfied: python-dateutil==2.9.0.post0 in /home/rcalabro/codebase/senac-ia/neural-networks/rn-musical-instruments/.venv/lib/python3.9/site-packages (from -r ../requirements.txt (line 79)) (2.9.0.post0)\n",
      "Requirement already satisfied: pytz==2025.2 in /home/rcalabro/codebase/senac-ia/neural-networks/rn-musical-instruments/.venv/lib/python3.9/site-packages (from -r ../requirements.txt (line 80)) (2025.2)\n",
      "Requirement already satisfied: PyYAML==6.0.2 in /home/rcalabro/codebase/senac-ia/neural-networks/rn-musical-instruments/.venv/lib/python3.9/site-packages (from -r ../requirements.txt (line 81)) (6.0.2)\n",
      "Requirement already satisfied: pyzmq==26.4.0 in /home/rcalabro/codebase/senac-ia/neural-networks/rn-musical-instruments/.venv/lib/python3.9/site-packages (from -r ../requirements.txt (line 82)) (26.4.0)\n",
      "Requirement already satisfied: requests==2.32.3 in /home/rcalabro/codebase/senac-ia/neural-networks/rn-musical-instruments/.venv/lib/python3.9/site-packages (from -r ../requirements.txt (line 83)) (2.32.3)\n",
      "Requirement already satisfied: rich==14.0.0 in /home/rcalabro/codebase/senac-ia/neural-networks/rn-musical-instruments/.venv/lib/python3.9/site-packages (from -r ../requirements.txt (line 84)) (14.0.0)\n",
      "Requirement already satisfied: scikit-learn==1.6.1 in /home/rcalabro/codebase/senac-ia/neural-networks/rn-musical-instruments/.venv/lib/python3.9/site-packages (from -r ../requirements.txt (line 85)) (1.6.1)\n",
      "Requirement already satisfied: scipy==1.13.1 in /home/rcalabro/codebase/senac-ia/neural-networks/rn-musical-instruments/.venv/lib/python3.9/site-packages (from -r ../requirements.txt (line 86)) (1.13.1)\n",
      "Requirement already satisfied: six==1.17.0 in /home/rcalabro/codebase/senac-ia/neural-networks/rn-musical-instruments/.venv/lib/python3.9/site-packages (from -r ../requirements.txt (line 87)) (1.17.0)\n",
      "Requirement already satisfied: soundfile==0.13.1 in /home/rcalabro/codebase/senac-ia/neural-networks/rn-musical-instruments/.venv/lib/python3.9/site-packages (from -r ../requirements.txt (line 88)) (0.13.1)\n",
      "Requirement already satisfied: soxr==0.5.0.post1 in /home/rcalabro/codebase/senac-ia/neural-networks/rn-musical-instruments/.venv/lib/python3.9/site-packages (from -r ../requirements.txt (line 89)) (0.5.0.post1)\n",
      "Requirement already satisfied: stack-data==0.6.3 in /home/rcalabro/codebase/senac-ia/neural-networks/rn-musical-instruments/.venv/lib/python3.9/site-packages (from -r ../requirements.txt (line 90)) (0.6.3)\n",
      "Requirement already satisfied: tensorboard==2.19.0 in /home/rcalabro/codebase/senac-ia/neural-networks/rn-musical-instruments/.venv/lib/python3.9/site-packages (from -r ../requirements.txt (line 91)) (2.19.0)\n",
      "Requirement already satisfied: tensorboard-data-server==0.7.2 in /home/rcalabro/codebase/senac-ia/neural-networks/rn-musical-instruments/.venv/lib/python3.9/site-packages (from -r ../requirements.txt (line 92)) (0.7.2)\n",
      "Requirement already satisfied: tensorflow==2.19.0 in /home/rcalabro/codebase/senac-ia/neural-networks/rn-musical-instruments/.venv/lib/python3.9/site-packages (from -r ../requirements.txt (line 93)) (2.19.0)\n",
      "Requirement already satisfied: tensorflow-addons==0.23.0 in /home/rcalabro/codebase/senac-ia/neural-networks/rn-musical-instruments/.venv/lib/python3.9/site-packages (from -r ../requirements.txt (line 94)) (0.23.0)\n",
      "Requirement already satisfied: tensorflow-io-gcs-filesystem==0.37.1 in /home/rcalabro/codebase/senac-ia/neural-networks/rn-musical-instruments/.venv/lib/python3.9/site-packages (from -r ../requirements.txt (line 95)) (0.37.1)\n",
      "Requirement already satisfied: termcolor==3.0.1 in /home/rcalabro/codebase/senac-ia/neural-networks/rn-musical-instruments/.venv/lib/python3.9/site-packages (from -r ../requirements.txt (line 96)) (3.0.1)\n",
      "Requirement already satisfied: threadpoolctl==3.6.0 in /home/rcalabro/codebase/senac-ia/neural-networks/rn-musical-instruments/.venv/lib/python3.9/site-packages (from -r ../requirements.txt (line 97)) (3.6.0)\n",
      "Requirement already satisfied: tornado==6.4.2 in /home/rcalabro/codebase/senac-ia/neural-networks/rn-musical-instruments/.venv/lib/python3.9/site-packages (from -r ../requirements.txt (line 98)) (6.4.2)\n",
      "Requirement already satisfied: tqdm==4.67.1 in /home/rcalabro/codebase/senac-ia/neural-networks/rn-musical-instruments/.venv/lib/python3.9/site-packages (from -r ../requirements.txt (line 99)) (4.67.1)\n",
      "Requirement already satisfied: traitlets==5.14.3 in /home/rcalabro/codebase/senac-ia/neural-networks/rn-musical-instruments/.venv/lib/python3.9/site-packages (from -r ../requirements.txt (line 100)) (5.14.3)\n",
      "Requirement already satisfied: typeguard==2.13.3 in /home/rcalabro/codebase/senac-ia/neural-networks/rn-musical-instruments/.venv/lib/python3.9/site-packages (from -r ../requirements.txt (line 101)) (2.13.3)\n",
      "Requirement already satisfied: typing_extensions==4.13.2 in /home/rcalabro/codebase/senac-ia/neural-networks/rn-musical-instruments/.venv/lib/python3.9/site-packages (from -r ../requirements.txt (line 102)) (4.13.2)\n",
      "Requirement already satisfied: tzdata==2025.2 in /home/rcalabro/codebase/senac-ia/neural-networks/rn-musical-instruments/.venv/lib/python3.9/site-packages (from -r ../requirements.txt (line 103)) (2025.2)\n",
      "Requirement already satisfied: urllib3==2.4.0 in /home/rcalabro/codebase/senac-ia/neural-networks/rn-musical-instruments/.venv/lib/python3.9/site-packages (from -r ../requirements.txt (line 104)) (2.4.0)\n",
      "Requirement already satisfied: wcwidth==0.2.13 in /home/rcalabro/codebase/senac-ia/neural-networks/rn-musical-instruments/.venv/lib/python3.9/site-packages (from -r ../requirements.txt (line 105)) (0.2.13)\n",
      "Requirement already satisfied: Werkzeug==3.1.3 in /home/rcalabro/codebase/senac-ia/neural-networks/rn-musical-instruments/.venv/lib/python3.9/site-packages (from -r ../requirements.txt (line 106)) (3.1.3)\n",
      "Requirement already satisfied: wrapt==1.17.2 in /home/rcalabro/codebase/senac-ia/neural-networks/rn-musical-instruments/.venv/lib/python3.9/site-packages (from -r ../requirements.txt (line 107)) (1.17.2)\n",
      "Requirement already satisfied: zipp==3.21.0 in /home/rcalabro/codebase/senac-ia/neural-networks/rn-musical-instruments/.venv/lib/python3.9/site-packages (from -r ../requirements.txt (line 108)) (3.21.0)\n",
      "Requirement already satisfied: wheel<1.0,>=0.23.0 in /home/rcalabro/codebase/senac-ia/neural-networks/rn-musical-instruments/.venv/lib/python3.9/site-packages (from astunparse==1.6.3->-r ../requirements.txt (line 3)) (0.45.1)\n",
      "Requirement already satisfied: setuptools>=41.0.0 in /home/rcalabro/codebase/senac-ia/neural-networks/rn-musical-instruments/.venv/lib/python3.9/site-packages (from tensorboard==2.19.0->-r ../requirements.txt (line 91)) (58.1.0)\n",
      "\u001b[33mWARNING: You are using pip version 22.0.4; however, version 25.0.1 is available.\n",
      "You should consider upgrading via the '/home/rcalabro/codebase/senac-ia/neural-networks/rn-musical-instruments/.venv/bin/python -m pip install --upgrade pip' command.\u001b[0m\u001b[33m\n",
      "\u001b[0mNote: you may need to restart the kernel to use updated packages.\n"
     ]
    }
   ],
   "source": [
    "%pip install -r ../requirements.txt"
   ]
  },
  {
   "cell_type": "markdown",
   "id": "32c45a3b",
   "metadata": {},
   "source": [
    "## Neural Network"
   ]
  },
  {
   "cell_type": "code",
   "execution_count": 2,
   "id": "07f5acbc",
   "metadata": {},
   "outputs": [
    {
     "name": "stderr",
     "output_type": "stream",
     "text": [
      "2025-04-23 18:09:54.226998: E external/local_xla/xla/stream_executor/cuda/cuda_fft.cc:467] Unable to register cuFFT factory: Attempting to register factory for plugin cuFFT when one has already been registered\n",
      "WARNING: All log messages before absl::InitializeLog() is called are written to STDERR\n",
      "E0000 00:00:1745442594.241389   48789 cuda_dnn.cc:8579] Unable to register cuDNN factory: Attempting to register factory for plugin cuDNN when one has already been registered\n",
      "E0000 00:00:1745442594.245595   48789 cuda_blas.cc:1407] Unable to register cuBLAS factory: Attempting to register factory for plugin cuBLAS when one has already been registered\n",
      "W0000 00:00:1745442594.257616   48789 computation_placer.cc:177] computation placer already registered. Please check linkage and avoid linking the same target more than once.\n",
      "W0000 00:00:1745442594.257642   48789 computation_placer.cc:177] computation placer already registered. Please check linkage and avoid linking the same target more than once.\n",
      "W0000 00:00:1745442594.257643   48789 computation_placer.cc:177] computation placer already registered. Please check linkage and avoid linking the same target more than once.\n",
      "W0000 00:00:1745442594.257645   48789 computation_placer.cc:177] computation placer already registered. Please check linkage and avoid linking the same target more than once.\n",
      "2025-04-23 18:09:54.262109: I tensorflow/core/platform/cpu_feature_guard.cc:210] This TensorFlow binary is optimized to use available CPU instructions in performance-critical operations.\n",
      "To enable the following instructions: AVX2 FMA, in other operations, rebuild TensorFlow with the appropriate compiler flags.\n"
     ]
    },
    {
     "name": "stdout",
     "output_type": "stream",
     "text": [
      "TensorFlow: 2.19.0\n",
      "Keras: 3.9.2\n",
      "WARNING:tensorflow:From /tmp/ipykernel_48789/265688621.py:21: is_gpu_available (from tensorflow.python.framework.test_util) is deprecated and will be removed in a future version.\n",
      "Instructions for updating:\n",
      "Use `tf.config.list_physical_devices('GPU')` instead.\n",
      "Is TensorFlow using GPU? True\n",
      "GPU disponível: [PhysicalDevice(name='/physical_device:GPU:0', device_type='GPU')]\n",
      "XLA ativado: \n"
     ]
    },
    {
     "name": "stderr",
     "output_type": "stream",
     "text": [
      "I0000 00:00:1745442596.338591   48789 gpu_device.cc:2019] Created device /device:GPU:0 with 4047 MB memory:  -> device: 0, name: NVIDIA GeForce RTX 2060, pci bus id: 0000:0a:00.0, compute capability: 7.5\n"
     ]
    },
    {
     "data": {
      "text/plain": [
       "[PhysicalDevice(name='/physical_device:CPU:0', device_type='CPU'),\n",
       " PhysicalDevice(name='/physical_device:GPU:0', device_type='GPU')]"
      ]
     },
     "execution_count": 2,
     "metadata": {},
     "output_type": "execute_result"
    }
   ],
   "source": [
    "import os\n",
    "os.environ['TF_CPP_MIN_LOG_LEVEL'] = '0'\n",
    "os.environ['ABSL_LOG_THRESHOLD'] = '0'\n",
    "\n",
    "import time\n",
    "from pathlib import Path\n",
    "import pandas as pd\n",
    "import numpy as np\n",
    "import matplotlib.pyplot as plt\n",
    "from sklearn.utils import resample\n",
    "from sklearn.metrics import classification_report, confusion_matrix, ConfusionMatrixDisplay\n",
    "import keras\n",
    "import tensorflow as tf\n",
    "from tensorflow.keras import layers, models\n",
    "from tensorflow.keras.utils import Sequence\n",
    "from sklearn.utils.class_weight import compute_class_weight\n",
    "\n",
    "\n",
    "print(\"TensorFlow:\", tf.__version__)\n",
    "print(\"Keras:\", keras.__version__)\n",
    "print(\"Is TensorFlow using GPU?\", tf.test.is_gpu_available())\n",
    "print(\"GPU disponível:\", tf.config.list_physical_devices('GPU'))\n",
    "print(\"XLA ativado:\", tf.config.optimizer.get_jit())\n",
    "# Mostra configuração geral\n",
    "tf.config.experimental.list_physical_devices()"
   ]
  },
  {
   "cell_type": "code",
   "execution_count": 3,
   "id": "2d39d70c",
   "metadata": {},
   "outputs": [],
   "source": [
    "TRAINING_DATASET_PATH = '../datasets/training'\n",
    "TRAINING_DATASET_VERSION = 'v2'\n",
    "\n",
    "TRAINING_DATASET_VERSION_PATH = Path(os.path.join(TRAINING_DATASET_PATH, TRAINING_DATASET_VERSION))\n",
    "\n",
    "TRAINING_DATASET_TRAIN_METADATA = TRAINING_DATASET_VERSION_PATH / 'train_metadata.csv'\n",
    "TRAINING_DATASET_TRAIN_DATA = TRAINING_DATASET_VERSION_PATH / 'train_data'\n",
    "\n",
    "TRAINING_DATASET_TEST_METADATA = TRAINING_DATASET_VERSION_PATH / 'test_metadata.csv'\n",
    "TRAINING_DATASET_TEST_DATA = TRAINING_DATASET_VERSION_PATH / 'test_data'\n"
   ]
  },
  {
   "cell_type": "code",
   "execution_count": 4,
   "id": "267558f3",
   "metadata": {},
   "outputs": [
    {
     "name": "stdout",
     "output_type": "stream",
     "text": [
      "📊 Distribuição no treino:\n",
      "class\n",
      "drum      38024\n",
      "guitar    38023\n",
      "piano     66541\n",
      "violin    38055\n",
      "Name: count, dtype: int64\n",
      "\n",
      "📊 Distribuição no teste:\n",
      "class\n",
      "drum      1696\n",
      "guitar    3093\n",
      "piano     2155\n",
      "violin     543\n",
      "Name: count, dtype: int64\n",
      "\n",
      "🔢 Mapeamento de classes:\n",
      "drum: 0\n",
      "guitar: 1\n",
      "piano: 2\n",
      "violin: 3\n"
     ]
    }
   ],
   "source": [
    "# Leitura dos metadados\n",
    "train_meta = pd.read_csv(TRAINING_DATASET_TRAIN_METADATA)#.drop(columns=[\"augmentation\"])\n",
    "test_meta = pd.read_csv(TRAINING_DATASET_TEST_METADATA)#.drop(columns=[\"augmentation\"])\n",
    "\n",
    "# Validação de classes únicas\n",
    "train_classes = set(train_meta['class'].unique())\n",
    "test_classes = set(test_meta['class'].unique())\n",
    "\n",
    "if train_classes != test_classes:\n",
    "    raise ValueError(f\"As classes do teste não batem com as do treino.\\nTreino: {train_classes}\\nTeste: {test_classes}\")\n",
    "\n",
    "# Mapeamento único\n",
    "unique_classes = sorted(train_classes)\n",
    "class_to_idx = {cls: idx for idx, cls in enumerate(unique_classes)}\n",
    "\n",
    "# Análise das distribuições\n",
    "print(\"📊 Distribuição no treino:\")\n",
    "print(train_meta['class'].value_counts().sort_index())\n",
    "\n",
    "print(\"\\n📊 Distribuição no teste:\")\n",
    "print(test_meta['class'].value_counts().sort_index())\n",
    "\n",
    "print(\"\\n🔢 Mapeamento de classes:\")\n",
    "for cls, idx in class_to_idx.items():\n",
    "    print(f\"{cls}: {idx}\")\n"
   ]
  },
  {
   "cell_type": "code",
   "execution_count": 5,
   "id": "53471544",
   "metadata": {},
   "outputs": [
    {
     "name": "stdout",
     "output_type": "stream",
     "text": [
      "class weights: {0: np.float64(1.1876906690511255), 1: np.float64(1.1877219051626646), 2: np.float64(0.6786905817465924), 3: np.float64(1.1867231638418079)}\n"
     ]
    }
   ],
   "source": [
    "# Cálculo automático dos pesos\n",
    "class_weights = compute_class_weight(\n",
    "    class_weight='balanced',\n",
    "    classes=np.array(list(class_to_idx.values())),\n",
    "    y=train_meta['class'].map(class_to_idx).values\n",
    ")\n",
    "\n",
    "# Transforma em dicionário\n",
    "class_weight_dict = {i: w for i, w in enumerate(class_weights)}\n",
    "print(\"class weights:\", class_weight_dict)"
   ]
  },
  {
   "cell_type": "code",
   "execution_count": null,
   "id": "ca5aab05",
   "metadata": {},
   "outputs": [],
   "source": [
    "def audio_npz_generator(meta_df, data_dir, class_map, augment=False):\n",
    "    for _, row in meta_df.iterrows():\n",
    "        path = data_dir / row['filename']\n",
    "        try:\n",
    "            mel = np.load(path)['mel'].astype(np.float32)\n",
    "            mel = mel[:, :128]            \n",
    "            label = class_map[row['class']]\n",
    "            yield mel[..., np.newaxis], label\n",
    "        except Exception as e:\n",
    "            print(f\"Erro ao carregar {path}: {e}\")\n",
    "            continue\n",
    "\n",
    "\n",
    "input_shape = (128, 128, 1)"
   ]
  },
  {
   "cell_type": "code",
   "execution_count": 18,
   "id": "a6608397",
   "metadata": {},
   "outputs": [],
   "source": [
    "# Subsets (definidos como antes)\n",
    "TRAIN_SAMPLE_SIZE = 1400\n",
    "VAL_SAMPLE_SIZE = 600\n",
    "\n",
    "# TRAIN_SAMPLE_SIZE = 140000\n",
    "# VAL_SAMPLE_SIZE = 6000\n",
    "\n",
    "BATCH_SIZE = 128\n",
    "RANDOM_STATE = 42\n",
    "\n",
    "train_meta_sampled = train_meta#.sample(n=TRAIN_SAMPLE_SIZE, random_state=RANDOM_STATE)\n",
    "val_meta_sampled = test_meta#.sample(n=VAL_SAMPLE_SIZE, random_state=RANDOM_STATE)\n",
    "\n",
    "# Class weights baseados no subset\n",
    "subset_class_weights = compute_class_weight(\n",
    "    class_weight='balanced',\n",
    "    classes=np.array(list(class_to_idx.values())),\n",
    "    y=train_meta_sampled['class'].map(class_to_idx).values\n",
    ")\n",
    "subset_class_weight_dict = {i: w for i, w in enumerate(subset_class_weights)}\n",
    "\n",
    "# Dataset de treino\n",
    "train_ds = tf.data.Dataset.from_generator(\n",
    "    lambda: audio_npz_generator(train_meta_sampled, TRAINING_DATASET_TRAIN_DATA, class_to_idx, augment=True),\n",
    "    output_signature=(\n",
    "        tf.TensorSpec(shape=input_shape, dtype=tf.float32),\n",
    "        tf.TensorSpec(shape=(), dtype=tf.int64)\n",
    "    )\n",
    ").shuffle(2048).batch(BATCH_SIZE).prefetch(tf.data.AUTOTUNE)\n",
    "\n",
    "# Dataset de validação\n",
    "val_ds = tf.data.Dataset.from_generator(\n",
    "    lambda: audio_npz_generator(val_meta_sampled, TRAINING_DATASET_TEST_DATA, class_to_idx),\n",
    "    output_signature=(\n",
    "        tf.TensorSpec(shape=input_shape, dtype=tf.float32),\n",
    "        tf.TensorSpec(shape=(), dtype=tf.int64)\n",
    "    )\n",
    ").batch(BATCH_SIZE).prefetch(tf.data.AUTOTUNE)"
   ]
  },
  {
   "cell_type": "code",
   "execution_count": null,
   "id": "77dc19b6",
   "metadata": {},
   "outputs": [
    {
     "name": "stdout",
     "output_type": "stream",
     "text": [
      "📊 Distribuição balanceada:\n",
      "class\n",
      "drum      1000\n",
      "guitar    1000\n",
      "piano     1000\n",
      "violin    1000\n",
      "Name: count, dtype: int64\n"
     ]
    }
   ],
   "source": [
    "# 🔢 Quantidade alvo por classe\n",
    "SAMPLES_PER_CLASS = 1000  # ajuste conforme necessário\n",
    "\n",
    "# 📊 Balanceamento: faz oversampling se precisar\n",
    "balanced_train_meta = pd.concat([\n",
    "    resample(\n",
    "        group,\n",
    "        replace=True,\n",
    "        n_samples=SAMPLES_PER_CLASS,\n",
    "        random_state=RANDOM_STATE\n",
    "    )\n",
    "    for _, group in train_meta_sampled.groupby('class')\n",
    "]).reset_index(drop=True)\n",
    "\n",
    "# 🧾 Verificação da distribuição\n",
    "print(\"📊 Distribuição balanceada:\")\n",
    "print(balanced_train_meta['class'].value_counts().sort_index())\n",
    "\n",
    "balanced_train_meta.head()\n",
    "\n",
    "balanced_train_ds = tf.data.Dataset.from_generator(\n",
    "    lambda: audio_npz_generator(balanced_train_meta, TRAINING_DATASET_TRAIN_DATA, class_to_idx, augment=True),\n",
    "    output_signature=(\n",
    "        tf.TensorSpec(shape=input_shape, dtype=tf.float32),\n",
    "        tf.TensorSpec(shape=(), dtype=tf.int64)\n",
    "    )\n",
    ").shuffle(2048).batch(BATCH_SIZE).prefetch(tf.data.AUTOTUNE)"
   ]
  },
  {
   "cell_type": "code",
   "execution_count": 20,
   "id": "fcf81c3c",
   "metadata": {},
   "outputs": [
    {
     "data": {
      "text/html": [
       "<pre style=\"white-space:pre;overflow-x:auto;line-height:normal;font-family:Menlo,'DejaVu Sans Mono',consolas,'Courier New',monospace\"><span style=\"font-weight: bold\">Model: \"sequential_2\"</span>\n",
       "</pre>\n"
      ],
      "text/plain": [
       "\u001b[1mModel: \"sequential_2\"\u001b[0m\n"
      ]
     },
     "metadata": {},
     "output_type": "display_data"
    },
    {
     "data": {
      "text/html": [
       "<pre style=\"white-space:pre;overflow-x:auto;line-height:normal;font-family:Menlo,'DejaVu Sans Mono',consolas,'Courier New',monospace\">┏━━━━━━━━━━━━━━━━━━━━━━━━━━━━━━━━━┳━━━━━━━━━━━━━━━━━━━━━━━━┳━━━━━━━━━━━━━━━┓\n",
       "┃<span style=\"font-weight: bold\"> Layer (type)                    </span>┃<span style=\"font-weight: bold\"> Output Shape           </span>┃<span style=\"font-weight: bold\">       Param # </span>┃\n",
       "┡━━━━━━━━━━━━━━━━━━━━━━━━━━━━━━━━━╇━━━━━━━━━━━━━━━━━━━━━━━━╇━━━━━━━━━━━━━━━┩\n",
       "│ conv2d_6 (<span style=\"color: #0087ff; text-decoration-color: #0087ff\">Conv2D</span>)               │ (<span style=\"color: #00d7ff; text-decoration-color: #00d7ff\">None</span>, <span style=\"color: #00af00; text-decoration-color: #00af00\">126</span>, <span style=\"color: #00af00; text-decoration-color: #00af00\">126</span>, <span style=\"color: #00af00; text-decoration-color: #00af00\">32</span>)   │           <span style=\"color: #00af00; text-decoration-color: #00af00\">320</span> │\n",
       "├─────────────────────────────────┼────────────────────────┼───────────────┤\n",
       "│ batch_normalization_6           │ (<span style=\"color: #00d7ff; text-decoration-color: #00d7ff\">None</span>, <span style=\"color: #00af00; text-decoration-color: #00af00\">126</span>, <span style=\"color: #00af00; text-decoration-color: #00af00\">126</span>, <span style=\"color: #00af00; text-decoration-color: #00af00\">32</span>)   │           <span style=\"color: #00af00; text-decoration-color: #00af00\">128</span> │\n",
       "│ (<span style=\"color: #0087ff; text-decoration-color: #0087ff\">BatchNormalization</span>)            │                        │               │\n",
       "├─────────────────────────────────┼────────────────────────┼───────────────┤\n",
       "│ max_pooling2d_6 (<span style=\"color: #0087ff; text-decoration-color: #0087ff\">MaxPooling2D</span>)  │ (<span style=\"color: #00d7ff; text-decoration-color: #00d7ff\">None</span>, <span style=\"color: #00af00; text-decoration-color: #00af00\">63</span>, <span style=\"color: #00af00; text-decoration-color: #00af00\">63</span>, <span style=\"color: #00af00; text-decoration-color: #00af00\">32</span>)     │             <span style=\"color: #00af00; text-decoration-color: #00af00\">0</span> │\n",
       "├─────────────────────────────────┼────────────────────────┼───────────────┤\n",
       "│ conv2d_7 (<span style=\"color: #0087ff; text-decoration-color: #0087ff\">Conv2D</span>)               │ (<span style=\"color: #00d7ff; text-decoration-color: #00d7ff\">None</span>, <span style=\"color: #00af00; text-decoration-color: #00af00\">61</span>, <span style=\"color: #00af00; text-decoration-color: #00af00\">61</span>, <span style=\"color: #00af00; text-decoration-color: #00af00\">64</span>)     │        <span style=\"color: #00af00; text-decoration-color: #00af00\">18,496</span> │\n",
       "├─────────────────────────────────┼────────────────────────┼───────────────┤\n",
       "│ batch_normalization_7           │ (<span style=\"color: #00d7ff; text-decoration-color: #00d7ff\">None</span>, <span style=\"color: #00af00; text-decoration-color: #00af00\">61</span>, <span style=\"color: #00af00; text-decoration-color: #00af00\">61</span>, <span style=\"color: #00af00; text-decoration-color: #00af00\">64</span>)     │           <span style=\"color: #00af00; text-decoration-color: #00af00\">256</span> │\n",
       "│ (<span style=\"color: #0087ff; text-decoration-color: #0087ff\">BatchNormalization</span>)            │                        │               │\n",
       "├─────────────────────────────────┼────────────────────────┼───────────────┤\n",
       "│ max_pooling2d_7 (<span style=\"color: #0087ff; text-decoration-color: #0087ff\">MaxPooling2D</span>)  │ (<span style=\"color: #00d7ff; text-decoration-color: #00d7ff\">None</span>, <span style=\"color: #00af00; text-decoration-color: #00af00\">30</span>, <span style=\"color: #00af00; text-decoration-color: #00af00\">30</span>, <span style=\"color: #00af00; text-decoration-color: #00af00\">64</span>)     │             <span style=\"color: #00af00; text-decoration-color: #00af00\">0</span> │\n",
       "├─────────────────────────────────┼────────────────────────┼───────────────┤\n",
       "│ conv2d_8 (<span style=\"color: #0087ff; text-decoration-color: #0087ff\">Conv2D</span>)               │ (<span style=\"color: #00d7ff; text-decoration-color: #00d7ff\">None</span>, <span style=\"color: #00af00; text-decoration-color: #00af00\">28</span>, <span style=\"color: #00af00; text-decoration-color: #00af00\">28</span>, <span style=\"color: #00af00; text-decoration-color: #00af00\">128</span>)    │        <span style=\"color: #00af00; text-decoration-color: #00af00\">73,856</span> │\n",
       "├─────────────────────────────────┼────────────────────────┼───────────────┤\n",
       "│ batch_normalization_8           │ (<span style=\"color: #00d7ff; text-decoration-color: #00d7ff\">None</span>, <span style=\"color: #00af00; text-decoration-color: #00af00\">28</span>, <span style=\"color: #00af00; text-decoration-color: #00af00\">28</span>, <span style=\"color: #00af00; text-decoration-color: #00af00\">128</span>)    │           <span style=\"color: #00af00; text-decoration-color: #00af00\">512</span> │\n",
       "│ (<span style=\"color: #0087ff; text-decoration-color: #0087ff\">BatchNormalization</span>)            │                        │               │\n",
       "├─────────────────────────────────┼────────────────────────┼───────────────┤\n",
       "│ max_pooling2d_8 (<span style=\"color: #0087ff; text-decoration-color: #0087ff\">MaxPooling2D</span>)  │ (<span style=\"color: #00d7ff; text-decoration-color: #00d7ff\">None</span>, <span style=\"color: #00af00; text-decoration-color: #00af00\">14</span>, <span style=\"color: #00af00; text-decoration-color: #00af00\">14</span>, <span style=\"color: #00af00; text-decoration-color: #00af00\">128</span>)    │             <span style=\"color: #00af00; text-decoration-color: #00af00\">0</span> │\n",
       "├─────────────────────────────────┼────────────────────────┼───────────────┤\n",
       "│ global_average_pooling2d_2      │ (<span style=\"color: #00d7ff; text-decoration-color: #00d7ff\">None</span>, <span style=\"color: #00af00; text-decoration-color: #00af00\">128</span>)            │             <span style=\"color: #00af00; text-decoration-color: #00af00\">0</span> │\n",
       "│ (<span style=\"color: #0087ff; text-decoration-color: #0087ff\">GlobalAveragePooling2D</span>)        │                        │               │\n",
       "├─────────────────────────────────┼────────────────────────┼───────────────┤\n",
       "│ dropout_4 (<span style=\"color: #0087ff; text-decoration-color: #0087ff\">Dropout</span>)             │ (<span style=\"color: #00d7ff; text-decoration-color: #00d7ff\">None</span>, <span style=\"color: #00af00; text-decoration-color: #00af00\">128</span>)            │             <span style=\"color: #00af00; text-decoration-color: #00af00\">0</span> │\n",
       "├─────────────────────────────────┼────────────────────────┼───────────────┤\n",
       "│ dense_4 (<span style=\"color: #0087ff; text-decoration-color: #0087ff\">Dense</span>)                 │ (<span style=\"color: #00d7ff; text-decoration-color: #00d7ff\">None</span>, <span style=\"color: #00af00; text-decoration-color: #00af00\">64</span>)             │         <span style=\"color: #00af00; text-decoration-color: #00af00\">8,256</span> │\n",
       "├─────────────────────────────────┼────────────────────────┼───────────────┤\n",
       "│ dropout_5 (<span style=\"color: #0087ff; text-decoration-color: #0087ff\">Dropout</span>)             │ (<span style=\"color: #00d7ff; text-decoration-color: #00d7ff\">None</span>, <span style=\"color: #00af00; text-decoration-color: #00af00\">64</span>)             │             <span style=\"color: #00af00; text-decoration-color: #00af00\">0</span> │\n",
       "├─────────────────────────────────┼────────────────────────┼───────────────┤\n",
       "│ dense_5 (<span style=\"color: #0087ff; text-decoration-color: #0087ff\">Dense</span>)                 │ (<span style=\"color: #00d7ff; text-decoration-color: #00d7ff\">None</span>, <span style=\"color: #00af00; text-decoration-color: #00af00\">4</span>)              │           <span style=\"color: #00af00; text-decoration-color: #00af00\">260</span> │\n",
       "└─────────────────────────────────┴────────────────────────┴───────────────┘\n",
       "</pre>\n"
      ],
      "text/plain": [
       "┏━━━━━━━━━━━━━━━━━━━━━━━━━━━━━━━━━┳━━━━━━━━━━━━━━━━━━━━━━━━┳━━━━━━━━━━━━━━━┓\n",
       "┃\u001b[1m \u001b[0m\u001b[1mLayer (type)                   \u001b[0m\u001b[1m \u001b[0m┃\u001b[1m \u001b[0m\u001b[1mOutput Shape          \u001b[0m\u001b[1m \u001b[0m┃\u001b[1m \u001b[0m\u001b[1m      Param #\u001b[0m\u001b[1m \u001b[0m┃\n",
       "┡━━━━━━━━━━━━━━━━━━━━━━━━━━━━━━━━━╇━━━━━━━━━━━━━━━━━━━━━━━━╇━━━━━━━━━━━━━━━┩\n",
       "│ conv2d_6 (\u001b[38;5;33mConv2D\u001b[0m)               │ (\u001b[38;5;45mNone\u001b[0m, \u001b[38;5;34m126\u001b[0m, \u001b[38;5;34m126\u001b[0m, \u001b[38;5;34m32\u001b[0m)   │           \u001b[38;5;34m320\u001b[0m │\n",
       "├─────────────────────────────────┼────────────────────────┼───────────────┤\n",
       "│ batch_normalization_6           │ (\u001b[38;5;45mNone\u001b[0m, \u001b[38;5;34m126\u001b[0m, \u001b[38;5;34m126\u001b[0m, \u001b[38;5;34m32\u001b[0m)   │           \u001b[38;5;34m128\u001b[0m │\n",
       "│ (\u001b[38;5;33mBatchNormalization\u001b[0m)            │                        │               │\n",
       "├─────────────────────────────────┼────────────────────────┼───────────────┤\n",
       "│ max_pooling2d_6 (\u001b[38;5;33mMaxPooling2D\u001b[0m)  │ (\u001b[38;5;45mNone\u001b[0m, \u001b[38;5;34m63\u001b[0m, \u001b[38;5;34m63\u001b[0m, \u001b[38;5;34m32\u001b[0m)     │             \u001b[38;5;34m0\u001b[0m │\n",
       "├─────────────────────────────────┼────────────────────────┼───────────────┤\n",
       "│ conv2d_7 (\u001b[38;5;33mConv2D\u001b[0m)               │ (\u001b[38;5;45mNone\u001b[0m, \u001b[38;5;34m61\u001b[0m, \u001b[38;5;34m61\u001b[0m, \u001b[38;5;34m64\u001b[0m)     │        \u001b[38;5;34m18,496\u001b[0m │\n",
       "├─────────────────────────────────┼────────────────────────┼───────────────┤\n",
       "│ batch_normalization_7           │ (\u001b[38;5;45mNone\u001b[0m, \u001b[38;5;34m61\u001b[0m, \u001b[38;5;34m61\u001b[0m, \u001b[38;5;34m64\u001b[0m)     │           \u001b[38;5;34m256\u001b[0m │\n",
       "│ (\u001b[38;5;33mBatchNormalization\u001b[0m)            │                        │               │\n",
       "├─────────────────────────────────┼────────────────────────┼───────────────┤\n",
       "│ max_pooling2d_7 (\u001b[38;5;33mMaxPooling2D\u001b[0m)  │ (\u001b[38;5;45mNone\u001b[0m, \u001b[38;5;34m30\u001b[0m, \u001b[38;5;34m30\u001b[0m, \u001b[38;5;34m64\u001b[0m)     │             \u001b[38;5;34m0\u001b[0m │\n",
       "├─────────────────────────────────┼────────────────────────┼───────────────┤\n",
       "│ conv2d_8 (\u001b[38;5;33mConv2D\u001b[0m)               │ (\u001b[38;5;45mNone\u001b[0m, \u001b[38;5;34m28\u001b[0m, \u001b[38;5;34m28\u001b[0m, \u001b[38;5;34m128\u001b[0m)    │        \u001b[38;5;34m73,856\u001b[0m │\n",
       "├─────────────────────────────────┼────────────────────────┼───────────────┤\n",
       "│ batch_normalization_8           │ (\u001b[38;5;45mNone\u001b[0m, \u001b[38;5;34m28\u001b[0m, \u001b[38;5;34m28\u001b[0m, \u001b[38;5;34m128\u001b[0m)    │           \u001b[38;5;34m512\u001b[0m │\n",
       "│ (\u001b[38;5;33mBatchNormalization\u001b[0m)            │                        │               │\n",
       "├─────────────────────────────────┼────────────────────────┼───────────────┤\n",
       "│ max_pooling2d_8 (\u001b[38;5;33mMaxPooling2D\u001b[0m)  │ (\u001b[38;5;45mNone\u001b[0m, \u001b[38;5;34m14\u001b[0m, \u001b[38;5;34m14\u001b[0m, \u001b[38;5;34m128\u001b[0m)    │             \u001b[38;5;34m0\u001b[0m │\n",
       "├─────────────────────────────────┼────────────────────────┼───────────────┤\n",
       "│ global_average_pooling2d_2      │ (\u001b[38;5;45mNone\u001b[0m, \u001b[38;5;34m128\u001b[0m)            │             \u001b[38;5;34m0\u001b[0m │\n",
       "│ (\u001b[38;5;33mGlobalAveragePooling2D\u001b[0m)        │                        │               │\n",
       "├─────────────────────────────────┼────────────────────────┼───────────────┤\n",
       "│ dropout_4 (\u001b[38;5;33mDropout\u001b[0m)             │ (\u001b[38;5;45mNone\u001b[0m, \u001b[38;5;34m128\u001b[0m)            │             \u001b[38;5;34m0\u001b[0m │\n",
       "├─────────────────────────────────┼────────────────────────┼───────────────┤\n",
       "│ dense_4 (\u001b[38;5;33mDense\u001b[0m)                 │ (\u001b[38;5;45mNone\u001b[0m, \u001b[38;5;34m64\u001b[0m)             │         \u001b[38;5;34m8,256\u001b[0m │\n",
       "├─────────────────────────────────┼────────────────────────┼───────────────┤\n",
       "│ dropout_5 (\u001b[38;5;33mDropout\u001b[0m)             │ (\u001b[38;5;45mNone\u001b[0m, \u001b[38;5;34m64\u001b[0m)             │             \u001b[38;5;34m0\u001b[0m │\n",
       "├─────────────────────────────────┼────────────────────────┼───────────────┤\n",
       "│ dense_5 (\u001b[38;5;33mDense\u001b[0m)                 │ (\u001b[38;5;45mNone\u001b[0m, \u001b[38;5;34m4\u001b[0m)              │           \u001b[38;5;34m260\u001b[0m │\n",
       "└─────────────────────────────────┴────────────────────────┴───────────────┘\n"
      ]
     },
     "metadata": {},
     "output_type": "display_data"
    },
    {
     "data": {
      "text/html": [
       "<pre style=\"white-space:pre;overflow-x:auto;line-height:normal;font-family:Menlo,'DejaVu Sans Mono',consolas,'Courier New',monospace\"><span style=\"font-weight: bold\"> Total params: </span><span style=\"color: #00af00; text-decoration-color: #00af00\">102,084</span> (398.77 KB)\n",
       "</pre>\n"
      ],
      "text/plain": [
       "\u001b[1m Total params: \u001b[0m\u001b[38;5;34m102,084\u001b[0m (398.77 KB)\n"
      ]
     },
     "metadata": {},
     "output_type": "display_data"
    },
    {
     "data": {
      "text/html": [
       "<pre style=\"white-space:pre;overflow-x:auto;line-height:normal;font-family:Menlo,'DejaVu Sans Mono',consolas,'Courier New',monospace\"><span style=\"font-weight: bold\"> Trainable params: </span><span style=\"color: #00af00; text-decoration-color: #00af00\">101,636</span> (397.02 KB)\n",
       "</pre>\n"
      ],
      "text/plain": [
       "\u001b[1m Trainable params: \u001b[0m\u001b[38;5;34m101,636\u001b[0m (397.02 KB)\n"
      ]
     },
     "metadata": {},
     "output_type": "display_data"
    },
    {
     "data": {
      "text/html": [
       "<pre style=\"white-space:pre;overflow-x:auto;line-height:normal;font-family:Menlo,'DejaVu Sans Mono',consolas,'Courier New',monospace\"><span style=\"font-weight: bold\"> Non-trainable params: </span><span style=\"color: #00af00; text-decoration-color: #00af00\">448</span> (1.75 KB)\n",
       "</pre>\n"
      ],
      "text/plain": [
       "\u001b[1m Non-trainable params: \u001b[0m\u001b[38;5;34m448\u001b[0m (1.75 KB)\n"
      ]
     },
     "metadata": {},
     "output_type": "display_data"
    }
   ],
   "source": [
    "num_classes = len(class_to_idx)\n",
    "\n",
    "\n",
    "model = models.Sequential([\n",
    "    layers.Conv2D(32, (3, 3), activation='relu', input_shape=input_shape),\n",
    "    layers.BatchNormalization(),\n",
    "    layers.MaxPooling2D(),\n",
    "\n",
    "    layers.Conv2D(64, (3, 3), activation='relu'),\n",
    "    layers.BatchNormalization(),\n",
    "    layers.MaxPooling2D(),\n",
    "\n",
    "    layers.Conv2D(128, (3, 3), activation='relu'),\n",
    "    layers.BatchNormalization(),\n",
    "    layers.MaxPooling2D(),\n",
    "\n",
    "    layers.GlobalAveragePooling2D(),\n",
    "    layers.Dropout(0.4),\n",
    "    layers.Dense(64, activation='relu'),\n",
    "    layers.Dropout(0.3),\n",
    "    layers.Dense(num_classes, activation='softmax')\n",
    "])\n",
    "\n",
    "model.compile(\n",
    "    optimizer='adam',\n",
    "    loss='sparse_categorical_crossentropy',\n",
    "    metrics=[\n",
    "        'accuracy',\n",
    "        # tfa.metrics.F1Score(num_classes=4, average='macro', name='f1_macro'),\n",
    "        # tfa.metrics.Precision(name='precision'),\n",
    "        # tfa.metrics.Recall(name='recall')\n",
    "    ]\n",
    ")\n",
    "\n",
    "model.summary()\n"
   ]
  },
  {
   "cell_type": "code",
   "execution_count": null,
   "id": "69caf77f",
   "metadata": {},
   "outputs": [
    {
     "name": "stdout",
     "output_type": "stream",
     "text": [
      "Epoch 1/2\n",
      "\u001b[1m1083/1412\u001b[0m \u001b[32m━━━━━━━━━━━━━━━\u001b[0m\u001b[37m━━━━━\u001b[0m \u001b[1m57s\u001b[0m 174ms/step - accuracy: 0.9838 - loss: 0.0637"
     ]
    }
   ],
   "source": [
    "import math\n",
    "\n",
    "os.environ['TF_CPP_MIN_LOG_LEVEL'] = '3'\n",
    "os.environ['ABSL_LOG_THRESHOLD'] = '3'\n",
    "\n",
    "EPOCHS = 2\n",
    "dataset = train_ds\n",
    "metadata = train_meta \n",
    "\n",
    "steps_per_epoch = math.ceil(len(metadata) / BATCH_SIZE)\n",
    "\n",
    "print(f\"steps_per_epoch: {steps_per_epoch}\")\n",
    "\n",
    "class_weights = compute_class_weight(\n",
    "    class_weight='balanced',\n",
    "    classes=np.array(list(class_to_idx.values())),\n",
    "    y=metadata['class'].map(class_to_idx).values\n",
    ")\n",
    "class_weight_dict = {i: w for i, w in enumerate(class_weights)}\n",
    "\n",
    "\n",
    "history = model.fit(\n",
    "    dataset,\n",
    "    validation_data=val_ds,\n",
    "    epochs=EPOCHS,\n",
    "    steps_per_epoch=steps_per_epoch,\n",
    "    class_weight=subset_class_weight_dict\n",
    ")\n",
    "\n"
   ]
  },
  {
   "cell_type": "markdown",
   "id": "bf22b58b",
   "metadata": {},
   "source": [
    "## Validação"
   ]
  },
  {
   "cell_type": "code",
   "execution_count": 15,
   "id": "bc5d0d91",
   "metadata": {},
   "outputs": [
    {
     "data": {
      "image/png": "[encoded data removed]",
      "text/plain": [
       "<Figure size 1200x400 with 2 Axes>"
      ]
     },
     "metadata": {},
     "output_type": "display_data"
    }
   ],
   "source": [
    "\n",
    "history_dict = history.history\n",
    "\n",
    "# Loss\n",
    "plt.figure(figsize=(12, 4))\n",
    "plt.subplot(1, 2, 1)\n",
    "plt.plot(history_dict['loss'], label='Treino')\n",
    "plt.plot(history_dict['val_loss'], label='Validação')\n",
    "plt.title('Loss')\n",
    "plt.xlabel('Época')\n",
    "plt.ylabel('Loss')\n",
    "plt.legend()\n",
    "\n",
    "# Accuracy\n",
    "plt.subplot(1, 2, 2)\n",
    "plt.plot(history_dict['accuracy'], label='Treino')\n",
    "plt.plot(history_dict['val_accuracy'], label='Validação')\n",
    "plt.title('Accuracy')\n",
    "plt.xlabel('Época')\n",
    "plt.ylabel('Acurácia')\n",
    "plt.legend()\n",
    "plt.tight_layout()\n",
    "plt.show()"
   ]
  },
  {
   "cell_type": "code",
   "execution_count": 16,
   "id": "b29041f1",
   "metadata": {},
   "outputs": [
    {
     "name": "stdout",
     "output_type": "stream",
     "text": [
      "              precision    recall  f1-score   support\n",
      "\n",
      "        drum       0.78      0.18      0.30       137\n",
      "      guitar       0.46      0.97      0.62       264\n",
      "       piano       0.00      0.00      0.00       151\n",
      "      violin       0.25      0.04      0.07        48\n",
      "\n",
      "    accuracy                           0.47       600\n",
      "   macro avg       0.37      0.30      0.25       600\n",
      "weighted avg       0.40      0.47      0.35       600\n",
      "\n",
      "confusion\n",
      "[[ 25 110   0   2]\n",
      " [  5 255   0   4]\n",
      " [  2 149   0   0]\n",
      " [  0  46   0   2]]\n"
     ]
    },
    {
     "name": "stderr",
     "output_type": "stream",
     "text": [
      "/home/rcalabro/codebase/senac-ia/neural-networks/rn-musical-instruments/.venv/lib/python3.9/site-packages/sklearn/metrics/_classification.py:1565: UndefinedMetricWarning: Precision is ill-defined and being set to 0.0 in labels with no predicted samples. Use `zero_division` parameter to control this behavior.\n",
      "  _warn_prf(average, modifier, f\"{metric.capitalize()} is\", len(result))\n",
      "/home/rcalabro/codebase/senac-ia/neural-networks/rn-musical-instruments/.venv/lib/python3.9/site-packages/sklearn/metrics/_classification.py:1565: UndefinedMetricWarning: Precision is ill-defined and being set to 0.0 in labels with no predicted samples. Use `zero_division` parameter to control this behavior.\n",
      "  _warn_prf(average, modifier, f\"{metric.capitalize()} is\", len(result))\n",
      "/home/rcalabro/codebase/senac-ia/neural-networks/rn-musical-instruments/.venv/lib/python3.9/site-packages/sklearn/metrics/_classification.py:1565: UndefinedMetricWarning: Precision is ill-defined and being set to 0.0 in labels with no predicted samples. Use `zero_division` parameter to control this behavior.\n",
      "  _warn_prf(average, modifier, f\"{metric.capitalize()} is\", len(result))\n"
     ]
    },
    {
     "data": {
      "image/png": "[encoded data removed]",
      "text/plain": [
       "<Figure size 640x480 with 2 Axes>"
      ]
     },
     "metadata": {},
     "output_type": "display_data"
    }
   ],
   "source": [
    "y_true = []\n",
    "y_pred = []\n",
    "\n",
    "for batch_x, batch_y in val_ds:\n",
    "    preds = model.predict(batch_x, verbose=0)\n",
    "    y_true.extend(batch_y.numpy())\n",
    "    y_pred.extend(np.argmax(preds, axis=1))\n",
    "\n",
    "# Relatório de classificação\n",
    "print(classification_report(y_true, y_pred, target_names=class_to_idx.keys()))\n",
    "\n",
    "\n",
    "# Matriz de confusão\n",
    "cm = confusion_matrix(y_true, y_pred)\n",
    "print('confusion')\n",
    "print(cm)\n",
    "disp = ConfusionMatrixDisplay(confusion_matrix=cm, display_labels=list(class_to_idx.keys()))\n",
    "disp.plot(xticks_rotation=45, cmap='Blues')\n",
    "plt.tight_layout()\n",
    "plt.show()"
   ]
  },
  {
   "cell_type": "code",
   "execution_count": null,
   "id": "5ab9431f",
   "metadata": {},
   "outputs": [],
   "source": []
  }
 ],
 "metadata": {
  "kernelspec": {
   "display_name": ".venv",
   "language": "python",
   "name": "python3"
  },
  "language_info": {
   "codemirror_mode": {
    "name": "ipython",
    "version": 3
   },
   "file_extension": ".py",
   "mimetype": "text/x-python",
   "name": "python",
   "nbconvert_exporter": "python",
   "pygments_lexer": "ipython3",
   "version": "3.9.16"
  }
 },
 "nbformat": 4,
 "nbformat_minor": 5
}
